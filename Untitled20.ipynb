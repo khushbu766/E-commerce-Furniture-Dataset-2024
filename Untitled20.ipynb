{
 "cells": [
  {
   "cell_type": "markdown",
   "id": "9f3a81c5-e62f-40c7-8e50-3142f34c4dc5",
   "metadata": {},
   "source": [
    "-----------------E-commerce Furniture Dataset 2024----------------"
   ]
  },
  {
   "cell_type": "code",
   "execution_count": 1,
   "id": "cc6c34cb-cc5a-4dd1-a9db-8763c613e0a2",
   "metadata": {},
   "outputs": [],
   "source": [
    "import numpy as np \n",
    "import pandas as pd"
   ]
  },
  {
   "cell_type": "code",
   "execution_count": 2,
   "id": "d1d89c08-3cd6-4cb0-89d4-eb5038e5e90b",
   "metadata": {},
   "outputs": [],
   "source": [
    "import os"
   ]
  },
  {
   "cell_type": "code",
   "execution_count": 3,
   "id": "c2f60743-31c8-4502-8f81-e5c6ba01bcb1",
   "metadata": {},
   "outputs": [],
   "source": [
    "for dirname, _, filenames in os.walk('/kaggle/input'):\n",
    "    for filename in filenames:\n",
    "        print(os.path.join(dirname, filename))"
   ]
  },
  {
   "cell_type": "code",
   "execution_count": 5,
   "id": "6741265e-89df-4119-8112-881ad63e5e58",
   "metadata": {},
   "outputs": [
    {
     "name": "stdout",
     "output_type": "stream",
     "text": [
      "                                           productTitle originalPrice  \\\n",
      "0     Dresser For Bedroom With 9 Fabric Drawers Ward...           NaN   \n",
      "1     Outdoor Conversation Set 4 Pieces Patio Furnit...           NaN   \n",
      "2     Desser For Bedroom With 7 Fabric Drawers Organ...         $78.4   \n",
      "3     Modern Accent Boucle Chair,Upholstered Tufted ...           NaN   \n",
      "4     Small Unit Simple Computer Desk Household Wood...        $48.82   \n",
      "...                                                 ...           ...   \n",
      "1995  Modern TV Stand Entertainment Center with Two ...           NaN   \n",
      "1996  Large Wardrobe Armoire Closet with 3 Doors, Fr...           NaN   \n",
      "1997  Velvet Futon Sofa Bed, 73-inch Sleeper Couch w...           NaN   \n",
      "1998  Furniture Acrylic Coffee Table Transparent Liv...           NaN   \n",
      "1999  Bed Frane Bamboo and Metal Platform Bed Frame ...           NaN   \n",
      "\n",
      "        price  sold        tagText  \n",
      "0      $46.79   600  Free shipping  \n",
      "1     $169.72     0  Free shipping  \n",
      "2      $39.46     7  Free shipping  \n",
      "3     $111.99     0  Free shipping  \n",
      "4      $21.37     1  Free shipping  \n",
      "...       ...   ...            ...  \n",
      "1995   $72.49     8  Free shipping  \n",
      "1996  $276.65     2  Free shipping  \n",
      "1997  $196.44    10  Free shipping  \n",
      "1998  $228.18     0  Free shipping  \n",
      "1999   $99.48     0  Free shipping  \n",
      "\n",
      "[2000 rows x 5 columns]\n"
     ]
    }
   ],
   "source": [
    "df = pd.read_csv('C:/Users/Khushboo/Downloads/ecommerce_furniture_dataset_2024.csv', encoding='latin1')\n",
    "print(df)"
   ]
  },
  {
   "cell_type": "code",
   "execution_count": 6,
   "id": "3cdf78db-e488-4e9d-a447-fc98472e2cbc",
   "metadata": {},
   "outputs": [
    {
     "data": {
      "text/html": [
       "<div>\n",
       "<style scoped>\n",
       "    .dataframe tbody tr th:only-of-type {\n",
       "        vertical-align: middle;\n",
       "    }\n",
       "\n",
       "    .dataframe tbody tr th {\n",
       "        vertical-align: top;\n",
       "    }\n",
       "\n",
       "    .dataframe thead th {\n",
       "        text-align: right;\n",
       "    }\n",
       "</style>\n",
       "<table border=\"1\" class=\"dataframe\">\n",
       "  <thead>\n",
       "    <tr style=\"text-align: right;\">\n",
       "      <th></th>\n",
       "      <th>productTitle</th>\n",
       "      <th>originalPrice</th>\n",
       "      <th>price</th>\n",
       "      <th>sold</th>\n",
       "      <th>tagText</th>\n",
       "    </tr>\n",
       "  </thead>\n",
       "  <tbody>\n",
       "    <tr>\n",
       "      <th>0</th>\n",
       "      <td>Dresser For Bedroom With 9 Fabric Drawers Ward...</td>\n",
       "      <td>NaN</td>\n",
       "      <td>$46.79</td>\n",
       "      <td>600</td>\n",
       "      <td>Free shipping</td>\n",
       "    </tr>\n",
       "    <tr>\n",
       "      <th>1</th>\n",
       "      <td>Outdoor Conversation Set 4 Pieces Patio Furnit...</td>\n",
       "      <td>NaN</td>\n",
       "      <td>$169.72</td>\n",
       "      <td>0</td>\n",
       "      <td>Free shipping</td>\n",
       "    </tr>\n",
       "    <tr>\n",
       "      <th>2</th>\n",
       "      <td>Desser For Bedroom With 7 Fabric Drawers Organ...</td>\n",
       "      <td>$78.4</td>\n",
       "      <td>$39.46</td>\n",
       "      <td>7</td>\n",
       "      <td>Free shipping</td>\n",
       "    </tr>\n",
       "    <tr>\n",
       "      <th>3</th>\n",
       "      <td>Modern Accent Boucle Chair,Upholstered Tufted ...</td>\n",
       "      <td>NaN</td>\n",
       "      <td>$111.99</td>\n",
       "      <td>0</td>\n",
       "      <td>Free shipping</td>\n",
       "    </tr>\n",
       "    <tr>\n",
       "      <th>4</th>\n",
       "      <td>Small Unit Simple Computer Desk Household Wood...</td>\n",
       "      <td>$48.82</td>\n",
       "      <td>$21.37</td>\n",
       "      <td>1</td>\n",
       "      <td>Free shipping</td>\n",
       "    </tr>\n",
       "  </tbody>\n",
       "</table>\n",
       "</div>"
      ],
      "text/plain": [
       "                                        productTitle originalPrice    price  \\\n",
       "0  Dresser For Bedroom With 9 Fabric Drawers Ward...           NaN   $46.79   \n",
       "1  Outdoor Conversation Set 4 Pieces Patio Furnit...           NaN  $169.72   \n",
       "2  Desser For Bedroom With 7 Fabric Drawers Organ...         $78.4   $39.46   \n",
       "3  Modern Accent Boucle Chair,Upholstered Tufted ...           NaN  $111.99   \n",
       "4  Small Unit Simple Computer Desk Household Wood...        $48.82   $21.37   \n",
       "\n",
       "   sold        tagText  \n",
       "0   600  Free shipping  \n",
       "1     0  Free shipping  \n",
       "2     7  Free shipping  \n",
       "3     0  Free shipping  \n",
       "4     1  Free shipping  "
      ]
     },
     "execution_count": 6,
     "metadata": {},
     "output_type": "execute_result"
    }
   ],
   "source": [
    "df.head()"
   ]
  },
  {
   "cell_type": "code",
   "execution_count": 7,
   "id": "dc531cbd-74cb-4650-b6b5-29f8ee7380e8",
   "metadata": {},
   "outputs": [
    {
     "data": {
      "text/plain": [
       "productTitle        0\n",
       "originalPrice    1513\n",
       "price               0\n",
       "sold                0\n",
       "tagText             3\n",
       "dtype: int64"
      ]
     },
     "execution_count": 7,
     "metadata": {},
     "output_type": "execute_result"
    }
   ],
   "source": [
    "df.isnull().sum()"
   ]
  },
  {
   "cell_type": "code",
   "execution_count": 8,
   "id": "1b21ff62-8c84-44eb-9d4f-bb1a7f8c73b6",
   "metadata": {},
   "outputs": [
    {
     "data": {
      "text/plain": [
       "(2000, 5)"
      ]
     },
     "execution_count": 8,
     "metadata": {},
     "output_type": "execute_result"
    }
   ],
   "source": [
    "df.shape"
   ]
  },
  {
   "cell_type": "code",
   "execution_count": 9,
   "id": "4877436b-7eb1-4206-84ed-b93bf24f3cbf",
   "metadata": {},
   "outputs": [],
   "source": [
    "df.drop(['originalPrice'],axis=1,inplace=True)"
   ]
  },
  {
   "cell_type": "code",
   "execution_count": 10,
   "id": "e733abc2-e463-4028-8e41-c37b3066f5ea",
   "metadata": {},
   "outputs": [
    {
     "data": {
      "text/html": [
       "<div>\n",
       "<style scoped>\n",
       "    .dataframe tbody tr th:only-of-type {\n",
       "        vertical-align: middle;\n",
       "    }\n",
       "\n",
       "    .dataframe tbody tr th {\n",
       "        vertical-align: top;\n",
       "    }\n",
       "\n",
       "    .dataframe thead th {\n",
       "        text-align: right;\n",
       "    }\n",
       "</style>\n",
       "<table border=\"1\" class=\"dataframe\">\n",
       "  <thead>\n",
       "    <tr style=\"text-align: right;\">\n",
       "      <th></th>\n",
       "      <th>productTitle</th>\n",
       "      <th>price</th>\n",
       "      <th>sold</th>\n",
       "      <th>tagText</th>\n",
       "    </tr>\n",
       "  </thead>\n",
       "  <tbody>\n",
       "    <tr>\n",
       "      <th>0</th>\n",
       "      <td>Dresser For Bedroom With 9 Fabric Drawers Ward...</td>\n",
       "      <td>$46.79</td>\n",
       "      <td>600</td>\n",
       "      <td>Free shipping</td>\n",
       "    </tr>\n",
       "    <tr>\n",
       "      <th>1</th>\n",
       "      <td>Outdoor Conversation Set 4 Pieces Patio Furnit...</td>\n",
       "      <td>$169.72</td>\n",
       "      <td>0</td>\n",
       "      <td>Free shipping</td>\n",
       "    </tr>\n",
       "    <tr>\n",
       "      <th>2</th>\n",
       "      <td>Desser For Bedroom With 7 Fabric Drawers Organ...</td>\n",
       "      <td>$39.46</td>\n",
       "      <td>7</td>\n",
       "      <td>Free shipping</td>\n",
       "    </tr>\n",
       "    <tr>\n",
       "      <th>3</th>\n",
       "      <td>Modern Accent Boucle Chair,Upholstered Tufted ...</td>\n",
       "      <td>$111.99</td>\n",
       "      <td>0</td>\n",
       "      <td>Free shipping</td>\n",
       "    </tr>\n",
       "    <tr>\n",
       "      <th>4</th>\n",
       "      <td>Small Unit Simple Computer Desk Household Wood...</td>\n",
       "      <td>$21.37</td>\n",
       "      <td>1</td>\n",
       "      <td>Free shipping</td>\n",
       "    </tr>\n",
       "  </tbody>\n",
       "</table>\n",
       "</div>"
      ],
      "text/plain": [
       "                                        productTitle    price  sold  \\\n",
       "0  Dresser For Bedroom With 9 Fabric Drawers Ward...   $46.79   600   \n",
       "1  Outdoor Conversation Set 4 Pieces Patio Furnit...  $169.72     0   \n",
       "2  Desser For Bedroom With 7 Fabric Drawers Organ...   $39.46     7   \n",
       "3  Modern Accent Boucle Chair,Upholstered Tufted ...  $111.99     0   \n",
       "4  Small Unit Simple Computer Desk Household Wood...   $21.37     1   \n",
       "\n",
       "         tagText  \n",
       "0  Free shipping  \n",
       "1  Free shipping  \n",
       "2  Free shipping  \n",
       "3  Free shipping  \n",
       "4  Free shipping  "
      ]
     },
     "execution_count": 10,
     "metadata": {},
     "output_type": "execute_result"
    }
   ],
   "source": [
    "df.head()"
   ]
  },
  {
   "cell_type": "code",
   "execution_count": 11,
   "id": "982bc184-4b65-4cd8-9690-ced8a58b57a5",
   "metadata": {},
   "outputs": [
    {
     "data": {
      "text/plain": [
       "100"
      ]
     },
     "execution_count": 11,
     "metadata": {},
     "output_type": "execute_result"
    }
   ],
   "source": [
    "df['tagText'].nunique()"
   ]
  },
  {
   "cell_type": "code",
   "execution_count": 12,
   "id": "8beea2a5-67e3-43ed-a45e-03ad7dd90347",
   "metadata": {},
   "outputs": [
    {
     "data": {
      "text/plain": [
       "tagText\n",
       "Free shipping           1880\n",
       "+Shipping: $5.09           9\n",
       "+Shipping: $239.64         2\n",
       "+Shipping: $97.54          2\n",
       "+Shipping: $64.56          2\n",
       "                        ... \n",
       "+Shipping: $88.26          1\n",
       "+Shipping: $170.31         1\n",
       "+Shipping: $1,097.18       1\n",
       "+Shipping: $106.13         1\n",
       "+Shipping: $171.49         1\n",
       "Name: count, Length: 100, dtype: int64"
      ]
     },
     "execution_count": 12,
     "metadata": {},
     "output_type": "execute_result"
    }
   ],
   "source": [
    "df['tagText'].value_counts()"
   ]
  },
  {
   "cell_type": "code",
   "execution_count": 13,
   "id": "7bc629ca-e1bc-4c33-82df-cf38a4865654",
   "metadata": {},
   "outputs": [],
   "source": [
    "# Replace all values except 'Free shipping' and '+Shipping:$5.09' with 'others'\n",
    "df['tagText'] = df['tagText'].apply(lambda x: x if x in ['Free shipping', '+Shipping: $5.09'] else 'others')"
   ]
  },
  {
   "cell_type": "code",
   "execution_count": 14,
   "id": "bd865544-a022-4da9-a010-8c8b7c954681",
   "metadata": {},
   "outputs": [
    {
     "name": "stdout",
     "output_type": "stream",
     "text": [
      "tagText\n",
      "Free shipping       1880\n",
      "others               111\n",
      "+Shipping: $5.09       9\n",
      "Name: count, dtype: int64\n"
     ]
    }
   ],
   "source": [
    "# Display the modified value counts\n",
    "print(df['tagText'].value_counts())"
   ]
  },
  {
   "cell_type": "code",
   "execution_count": 15,
   "id": "ff3c2a7b-4ee3-43aa-bb81-a41862ecac68",
   "metadata": {},
   "outputs": [],
   "source": [
    "import seaborn as sns"
   ]
  },
  {
   "cell_type": "code",
   "execution_count": 16,
   "id": "ad0bf273-3844-499d-abff-e66008ba11c8",
   "metadata": {},
   "outputs": [
    {
     "data": {
      "text/plain": [
       "<Axes: xlabel='tagText', ylabel='count'>"
      ]
     },
     "execution_count": 16,
     "metadata": {},
     "output_type": "execute_result"
    },
    {
     "data": {
      "image/png": "[encoded data removed]",
      "text/plain": [
       "<Figure size 640x480 with 1 Axes>"
      ]
     },
     "metadata": {},
     "output_type": "display_data"
    }
   ],
   "source": [
    "sns.countplot(x='tagText',data=df)"
   ]
  },
  {
   "cell_type": "code",
   "execution_count": 17,
   "id": "79287277-e3e4-40ea-9afc-62f4f980dbb1",
   "metadata": {},
   "outputs": [
    {
     "name": "stderr",
     "output_type": "stream",
     "text": [
      "<>:1: SyntaxWarning: invalid escape sequence '\\$'\n",
      "<>:1: SyntaxWarning: invalid escape sequence '\\$'\n",
      "C:\\Users\\Khushboo\\AppData\\Local\\Temp\\ipykernel_14068\\673065057.py:1: SyntaxWarning: invalid escape sequence '\\$'\n",
      "  df['price'] = df['price'].replace('[\\$,]', '',regex=True).astype(float)\n"
     ]
    }
   ],
   "source": [
    "df['price'] = df['price'].replace('[\\$,]', '',regex=True).astype(float)"
   ]
  },
  {
   "cell_type": "code",
   "execution_count": 18,
   "id": "0f968d03-a709-46ce-bab7-dc33d13f94de",
   "metadata": {},
   "outputs": [
    {
     "data": {
      "text/html": [
       "<div>\n",
       "<style scoped>\n",
       "    .dataframe tbody tr th:only-of-type {\n",
       "        vertical-align: middle;\n",
       "    }\n",
       "\n",
       "    .dataframe tbody tr th {\n",
       "        vertical-align: top;\n",
       "    }\n",
       "\n",
       "    .dataframe thead th {\n",
       "        text-align: right;\n",
       "    }\n",
       "</style>\n",
       "<table border=\"1\" class=\"dataframe\">\n",
       "  <thead>\n",
       "    <tr style=\"text-align: right;\">\n",
       "      <th></th>\n",
       "      <th>productTitle</th>\n",
       "      <th>price</th>\n",
       "      <th>sold</th>\n",
       "      <th>tagText</th>\n",
       "    </tr>\n",
       "  </thead>\n",
       "  <tbody>\n",
       "    <tr>\n",
       "      <th>0</th>\n",
       "      <td>Dresser For Bedroom With 9 Fabric Drawers Ward...</td>\n",
       "      <td>46.79</td>\n",
       "      <td>600</td>\n",
       "      <td>Free shipping</td>\n",
       "    </tr>\n",
       "    <tr>\n",
       "      <th>1</th>\n",
       "      <td>Outdoor Conversation Set 4 Pieces Patio Furnit...</td>\n",
       "      <td>169.72</td>\n",
       "      <td>0</td>\n",
       "      <td>Free shipping</td>\n",
       "    </tr>\n",
       "    <tr>\n",
       "      <th>2</th>\n",
       "      <td>Desser For Bedroom With 7 Fabric Drawers Organ...</td>\n",
       "      <td>39.46</td>\n",
       "      <td>7</td>\n",
       "      <td>Free shipping</td>\n",
       "    </tr>\n",
       "    <tr>\n",
       "      <th>3</th>\n",
       "      <td>Modern Accent Boucle Chair,Upholstered Tufted ...</td>\n",
       "      <td>111.99</td>\n",
       "      <td>0</td>\n",
       "      <td>Free shipping</td>\n",
       "    </tr>\n",
       "    <tr>\n",
       "      <th>4</th>\n",
       "      <td>Small Unit Simple Computer Desk Household Wood...</td>\n",
       "      <td>21.37</td>\n",
       "      <td>1</td>\n",
       "      <td>Free shipping</td>\n",
       "    </tr>\n",
       "  </tbody>\n",
       "</table>\n",
       "</div>"
      ],
      "text/plain": [
       "                                        productTitle   price  sold  \\\n",
       "0  Dresser For Bedroom With 9 Fabric Drawers Ward...   46.79   600   \n",
       "1  Outdoor Conversation Set 4 Pieces Patio Furnit...  169.72     0   \n",
       "2  Desser For Bedroom With 7 Fabric Drawers Organ...   39.46     7   \n",
       "3  Modern Accent Boucle Chair,Upholstered Tufted ...  111.99     0   \n",
       "4  Small Unit Simple Computer Desk Household Wood...   21.37     1   \n",
       "\n",
       "         tagText  \n",
       "0  Free shipping  \n",
       "1  Free shipping  \n",
       "2  Free shipping  \n",
       "3  Free shipping  \n",
       "4  Free shipping  "
      ]
     },
     "execution_count": 18,
     "metadata": {},
     "output_type": "execute_result"
    }
   ],
   "source": [
    "df.head()"
   ]
  },
  {
   "cell_type": "code",
   "execution_count": 19,
   "id": "06c491e8-4a4c-46f3-b667-5743e131de93",
   "metadata": {},
   "outputs": [
    {
     "name": "stderr",
     "output_type": "stream",
     "text": [
      "C:\\Users\\Khushboo\\AppData\\Local\\Temp\\ipykernel_14068\\444587821.py:1: UserWarning: \n",
      "\n",
      "`distplot` is a deprecated function and will be removed in seaborn v0.14.0.\n",
      "\n",
      "Please adapt your code to use either `displot` (a figure-level function with\n",
      "similar flexibility) or `histplot` (an axes-level function for histograms).\n",
      "\n",
      "For a guide to updating your code to use the new functions, please see\n",
      "https://gist.github.com/mwaskom/de44147ed2974457ad6372750bbe5751\n",
      "\n",
      "  sns.distplot(df['price'])\n"
     ]
    },
    {
     "data": {
      "text/plain": [
       "<Axes: xlabel='price', ylabel='Density'>"
      ]
     },
     "execution_count": 19,
     "metadata": {},
     "output_type": "execute_result"
    },
    {
     "data": {
      "image/png": "[encoded data removed]",
      "text/plain": [
       "<Figure size 640x480 with 1 Axes>"
      ]
     },
     "metadata": {},
     "output_type": "display_data"
    }
   ],
   "source": [
    "sns.distplot(df['price'])"
   ]
  },
  {
   "cell_type": "code",
   "execution_count": 20,
   "id": "30f32abb-677c-450d-82bd-2f43ddb9bc6c",
   "metadata": {},
   "outputs": [
    {
     "name": "stderr",
     "output_type": "stream",
     "text": [
      "C:\\Users\\Khushboo\\AppData\\Local\\Temp\\ipykernel_14068\\2507294489.py:1: UserWarning: \n",
      "\n",
      "`distplot` is a deprecated function and will be removed in seaborn v0.14.0.\n",
      "\n",
      "Please adapt your code to use either `displot` (a figure-level function with\n",
      "similar flexibility) or `histplot` (an axes-level function for histograms).\n",
      "\n",
      "For a guide to updating your code to use the new functions, please see\n",
      "https://gist.github.com/mwaskom/de44147ed2974457ad6372750bbe5751\n",
      "\n",
      "  sns.distplot(df['sold'])\n"
     ]
    },
    {
     "data": {
      "text/plain": [
       "<Axes: xlabel='sold', ylabel='Density'>"
      ]
     },
     "execution_count": 20,
     "metadata": {},
     "output_type": "execute_result"
    },
    {
     "data": {
      "image/png": "[encoded data removed]",
      "text/plain": [
       "<Figure size 640x480 with 1 Axes>"
      ]
     },
     "metadata": {},
     "output_type": "display_data"
    }
   ],
   "source": [
    "sns.distplot(df['sold'])"
   ]
  },
  {
   "cell_type": "code",
   "execution_count": 21,
   "id": "c5b2fc62-5b1b-418b-9fad-8eebc1e13d9e",
   "metadata": {},
   "outputs": [
    {
     "data": {
      "text/plain": [
       "<Axes: xlabel='price', ylabel='sold'>"
      ]
     },
     "execution_count": 21,
     "metadata": {},
     "output_type": "execute_result"
    },
    {
     "data": {
      "image/png": "[encoded data removed]",
      "text/plain": [
       "<Figure size 640x480 with 1 Axes>"
      ]
     },
     "metadata": {},
     "output_type": "display_data"
    }
   ],
   "source": [
    "sns.scatterplot(x='price', y='sold', data=df)"
   ]
  },
  {
   "cell_type": "code",
   "execution_count": 22,
   "id": "abc9cc39-993c-469e-8cb2-cb29105a8ef5",
   "metadata": {},
   "outputs": [],
   "source": [
    "filtered_df = df[df['tagText'] == 'Free shipping']"
   ]
  },
  {
   "cell_type": "code",
   "execution_count": 23,
   "id": "c96820b4-9bd3-40b6-acef-cf8b0cdee6f9",
   "metadata": {},
   "outputs": [
    {
     "data": {
      "text/plain": [
       "<seaborn.axisgrid.PairGrid at 0x2863ce4fe90>"
      ]
     },
     "execution_count": 23,
     "metadata": {},
     "output_type": "execute_result"
    },
    {
     "data": {
      "image/png": "[encoded data removed]",
      "text/plain": [
       "<Figure size 500x500 with 6 Axes>"
      ]
     },
     "metadata": {},
     "output_type": "display_data"
    }
   ],
   "source": [
    "# Create a pairplot including the 'sold' column and other relevant columns\n",
    "sns.pairplot(filtered_df[['price', 'sold']])"
   ]
  },
  {
   "cell_type": "code",
   "execution_count": 24,
   "id": "09ba67b7-8b33-46b4-b6c3-2c73d5449962",
   "metadata": {},
   "outputs": [],
   "source": [
    "from sklearn.preprocessing import LabelEncoder\n",
    "le=LabelEncoder()\n",
    "df['tagText']=le.fit_transform(df['tagText'])"
   ]
  },
  {
   "cell_type": "code",
   "execution_count": 25,
   "id": "ff74bd93-42b8-4d05-9942-ab9ef15baf24",
   "metadata": {},
   "outputs": [
    {
     "data": {
      "text/html": [
       "<div>\n",
       "<style scoped>\n",
       "    .dataframe tbody tr th:only-of-type {\n",
       "        vertical-align: middle;\n",
       "    }\n",
       "\n",
       "    .dataframe tbody tr th {\n",
       "        vertical-align: top;\n",
       "    }\n",
       "\n",
       "    .dataframe thead th {\n",
       "        text-align: right;\n",
       "    }\n",
       "</style>\n",
       "<table border=\"1\" class=\"dataframe\">\n",
       "  <thead>\n",
       "    <tr style=\"text-align: right;\">\n",
       "      <th></th>\n",
       "      <th>productTitle</th>\n",
       "      <th>price</th>\n",
       "      <th>sold</th>\n",
       "      <th>tagText</th>\n",
       "    </tr>\n",
       "  </thead>\n",
       "  <tbody>\n",
       "    <tr>\n",
       "      <th>0</th>\n",
       "      <td>Dresser For Bedroom With 9 Fabric Drawers Ward...</td>\n",
       "      <td>46.79</td>\n",
       "      <td>600</td>\n",
       "      <td>1</td>\n",
       "    </tr>\n",
       "    <tr>\n",
       "      <th>1</th>\n",
       "      <td>Outdoor Conversation Set 4 Pieces Patio Furnit...</td>\n",
       "      <td>169.72</td>\n",
       "      <td>0</td>\n",
       "      <td>1</td>\n",
       "    </tr>\n",
       "    <tr>\n",
       "      <th>2</th>\n",
       "      <td>Desser For Bedroom With 7 Fabric Drawers Organ...</td>\n",
       "      <td>39.46</td>\n",
       "      <td>7</td>\n",
       "      <td>1</td>\n",
       "    </tr>\n",
       "    <tr>\n",
       "      <th>3</th>\n",
       "      <td>Modern Accent Boucle Chair,Upholstered Tufted ...</td>\n",
       "      <td>111.99</td>\n",
       "      <td>0</td>\n",
       "      <td>1</td>\n",
       "    </tr>\n",
       "    <tr>\n",
       "      <th>4</th>\n",
       "      <td>Small Unit Simple Computer Desk Household Wood...</td>\n",
       "      <td>21.37</td>\n",
       "      <td>1</td>\n",
       "      <td>1</td>\n",
       "    </tr>\n",
       "  </tbody>\n",
       "</table>\n",
       "</div>"
      ],
      "text/plain": [
       "                                        productTitle   price  sold  tagText\n",
       "0  Dresser For Bedroom With 9 Fabric Drawers Ward...   46.79   600        1\n",
       "1  Outdoor Conversation Set 4 Pieces Patio Furnit...  169.72     0        1\n",
       "2  Desser For Bedroom With 7 Fabric Drawers Organ...   39.46     7        1\n",
       "3  Modern Accent Boucle Chair,Upholstered Tufted ...  111.99     0        1\n",
       "4  Small Unit Simple Computer Desk Household Wood...   21.37     1        1"
      ]
     },
     "execution_count": 25,
     "metadata": {},
     "output_type": "execute_result"
    }
   ],
   "source": [
    "df.head()"
   ]
  },
  {
   "cell_type": "code",
   "execution_count": 26,
   "id": "6f366c54-0983-4abb-9fa7-2eb0c6c5adc2",
   "metadata": {},
   "outputs": [
    {
     "data": {
      "text/plain": [
       "tagText\n",
       "1    1880\n",
       "2     111\n",
       "0       9\n",
       "Name: count, dtype: int64"
      ]
     },
     "execution_count": 26,
     "metadata": {},
     "output_type": "execute_result"
    }
   ],
   "source": [
    "df['tagText'].value_counts()"
   ]
  },
  {
   "cell_type": "code",
   "execution_count": 29,
   "id": "f5675e9b-d136-4d7f-9516-b8b6a842ddf7",
   "metadata": {},
   "outputs": [
    {
     "data": {
      "text/html": [
       "<div>\n",
       "<style scoped>\n",
       "    .dataframe tbody tr th:only-of-type {\n",
       "        vertical-align: middle;\n",
       "    }\n",
       "\n",
       "    .dataframe tbody tr th {\n",
       "        vertical-align: top;\n",
       "    }\n",
       "\n",
       "    .dataframe thead th {\n",
       "        text-align: right;\n",
       "    }\n",
       "</style>\n",
       "<table border=\"1\" class=\"dataframe\">\n",
       "  <thead>\n",
       "    <tr style=\"text-align: right;\">\n",
       "      <th></th>\n",
       "      <th>productTitle</th>\n",
       "      <th>price</th>\n",
       "      <th>sold</th>\n",
       "      <th>tagText</th>\n",
       "    </tr>\n",
       "  </thead>\n",
       "  <tbody>\n",
       "    <tr>\n",
       "      <th>0</th>\n",
       "      <td>False</td>\n",
       "      <td>False</td>\n",
       "      <td>False</td>\n",
       "      <td>False</td>\n",
       "    </tr>\n",
       "    <tr>\n",
       "      <th>1</th>\n",
       "      <td>False</td>\n",
       "      <td>False</td>\n",
       "      <td>False</td>\n",
       "      <td>False</td>\n",
       "    </tr>\n",
       "    <tr>\n",
       "      <th>2</th>\n",
       "      <td>False</td>\n",
       "      <td>False</td>\n",
       "      <td>False</td>\n",
       "      <td>False</td>\n",
       "    </tr>\n",
       "    <tr>\n",
       "      <th>3</th>\n",
       "      <td>False</td>\n",
       "      <td>False</td>\n",
       "      <td>False</td>\n",
       "      <td>False</td>\n",
       "    </tr>\n",
       "    <tr>\n",
       "      <th>4</th>\n",
       "      <td>False</td>\n",
       "      <td>False</td>\n",
       "      <td>False</td>\n",
       "      <td>False</td>\n",
       "    </tr>\n",
       "    <tr>\n",
       "      <th>...</th>\n",
       "      <td>...</td>\n",
       "      <td>...</td>\n",
       "      <td>...</td>\n",
       "      <td>...</td>\n",
       "    </tr>\n",
       "    <tr>\n",
       "      <th>1995</th>\n",
       "      <td>False</td>\n",
       "      <td>False</td>\n",
       "      <td>False</td>\n",
       "      <td>False</td>\n",
       "    </tr>\n",
       "    <tr>\n",
       "      <th>1996</th>\n",
       "      <td>False</td>\n",
       "      <td>False</td>\n",
       "      <td>False</td>\n",
       "      <td>False</td>\n",
       "    </tr>\n",
       "    <tr>\n",
       "      <th>1997</th>\n",
       "      <td>False</td>\n",
       "      <td>False</td>\n",
       "      <td>False</td>\n",
       "      <td>False</td>\n",
       "    </tr>\n",
       "    <tr>\n",
       "      <th>1998</th>\n",
       "      <td>False</td>\n",
       "      <td>False</td>\n",
       "      <td>False</td>\n",
       "      <td>False</td>\n",
       "    </tr>\n",
       "    <tr>\n",
       "      <th>1999</th>\n",
       "      <td>False</td>\n",
       "      <td>False</td>\n",
       "      <td>False</td>\n",
       "      <td>False</td>\n",
       "    </tr>\n",
       "  </tbody>\n",
       "</table>\n",
       "<p>2000 rows × 4 columns</p>\n",
       "</div>"
      ],
      "text/plain": [
       "      productTitle  price   sold  tagText\n",
       "0            False  False  False    False\n",
       "1            False  False  False    False\n",
       "2            False  False  False    False\n",
       "3            False  False  False    False\n",
       "4            False  False  False    False\n",
       "...            ...    ...    ...      ...\n",
       "1995         False  False  False    False\n",
       "1996         False  False  False    False\n",
       "1997         False  False  False    False\n",
       "1998         False  False  False    False\n",
       "1999         False  False  False    False\n",
       "\n",
       "[2000 rows x 4 columns]"
      ]
     },
     "execution_count": 29,
     "metadata": {},
     "output_type": "execute_result"
    }
   ],
   "source": [
    "df.isnull()"
   ]
  },
  {
   "cell_type": "code",
   "execution_count": null,
   "id": "a0cc711b-ed5b-44c1-8400-8365495c1e2a",
   "metadata": {},
   "outputs": [],
   "source": []
  }
 ],
 "metadata": {
  "kernelspec": {
   "display_name": "Python 3 (ipykernel)",
   "language": "python",
   "name": "python3"
  },
  "language_info": {
   "codemirror_mode": {
    "name": "ipython",
    "version": 3
   },
   "file_extension": ".py",
   "mimetype": "text/x-python",
   "name": "python",
   "nbconvert_exporter": "python",
   "pygments_lexer": "ipython3",
   "version": "3.12.7"
  }
 },
 "nbformat": 4,
 "nbformat_minor": 5
}
