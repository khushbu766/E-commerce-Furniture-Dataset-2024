{
 "cells": [
  {
   "cell_type": "markdown",
   "id": "5762f299-562d-42d0-b097-066d9ccb62a9",
   "metadata": {},
   "source": [
    "-------------Drugs, Side Effects and Medical Condition arrow_drop_up---------------"
   ]
  },
  {
   "cell_type": "code",
   "execution_count": 22,
   "id": "6a838a58-9fb8-4ec2-997a-ab297ff2ead7",
   "metadata": {},
   "outputs": [],
   "source": [
    "# Import dataset\n",
    "import pandas as pd\n",
    "import numpy as np"
   ]
  },
  {
   "cell_type": "code",
   "execution_count": 5,
   "id": "aed20239-8153-44d8-b0d9-bfc655c5a4b7",
   "metadata": {},
   "outputs": [],
   "source": [
    "# Read the CSV file into a DataFrame\n",
    "fpath =('C:/Users/Khushboo/Downloads/drugs_side_effects_drugs_com.csv ')\n",
    "data = pd.read_csv(fpath)"
   ]
  },
  {
   "cell_type": "code",
   "execution_count": 23,
   "id": "f0b01647-9ee3-4f82-a416-2f3412fa2109",
   "metadata": {},
   "outputs": [
    {
     "name": "stdout",
     "output_type": "stream",
     "text": [
      "           drug_name medical_condition  \\\n",
      "0        doxycycline              Acne   \n",
      "1     spironolactone              Acne   \n",
      "2        minocycline              Acne   \n",
      "3           Accutane              Acne   \n",
      "4        clindamycin              Acne   \n",
      "...              ...               ...   \n",
      "2961   benzphetamine       Weight Loss   \n",
      "2962    fenfluramine       Weight Loss   \n",
      "2963     Fendique ER       Weight Loss   \n",
      "2964        Imcivree       Weight Loss   \n",
      "2965   setmelanotide       Weight Loss   \n",
      "\n",
      "                                           side_effects  \\\n",
      "0     (hives, difficult breathing, swelling in your ...   \n",
      "1     hives ; difficulty breathing; swelling of your...   \n",
      "2     skin rash, fever, swollen glands, flu-like sym...   \n",
      "3     problems with your vision or hearing; muscle o...   \n",
      "4     hives ; difficult breathing; swelling of your ...   \n",
      "...                                                 ...   \n",
      "2961  hives ; difficulty breathing; swelling of your...   \n",
      "2962  hives ; difficult breathing; swelling of your ...   \n",
      "2963                                                NaN   \n",
      "2964  Imcivree may cause serious side effects, inclu...   \n",
      "2965  hives ; difficult breathing; swelling of your ...   \n",
      "\n",
      "                  generic_name  \\\n",
      "0                  doxycycline   \n",
      "1               spironolactone   \n",
      "2                  minocycline   \n",
      "3          isotretinoin (oral)   \n",
      "4          clindamycin topical   \n",
      "...                        ...   \n",
      "2961             benzphetamine   \n",
      "2962              fenfluramine   \n",
      "2963  phendimetrazine tartrate   \n",
      "2964             setmelanotide   \n",
      "2965             setmelanotide   \n",
      "\n",
      "                                           drug_classes  \\\n",
      "0            Miscellaneous antimalarials, Tetracyclines   \n",
      "1     Aldosterone receptor antagonists, Potassium-sp...   \n",
      "2                                         Tetracyclines   \n",
      "3     Miscellaneous antineoplastics, Miscellaneous u...   \n",
      "4          Topical acne agents, Vaginal anti-infectives   \n",
      "...                                                 ...   \n",
      "2961                        Anorexiants, CNS stimulants   \n",
      "2962  Anorexiants, CNS stimulants, Miscellaneous ant...   \n",
      "2963                        Anorexiants, CNS stimulants   \n",
      "2964                     Melanocortin receptor agonists   \n",
      "2965                     Melanocortin receptor agonists   \n",
      "\n",
      "                                            brand_names activity rx_otc  \\\n",
      "0     Acticlate, Adoxa CK, Adoxa Pak, Adoxa TT, Alod...      87%     Rx   \n",
      "1                                   Aldactone, CaroSpir      82%     Rx   \n",
      "2     Dynacin, Minocin, Minolira, Solodyn, Ximino, V...      48%     Rx   \n",
      "3                                                   NaN      41%     Rx   \n",
      "4     Cleocin T, Clindacin ETZ, Clindacin P, Clindag...      39%     Rx   \n",
      "...                                                 ...      ...    ...   \n",
      "2961                                    Didrex, Regimex       2%     Rx   \n",
      "2962                                           Fintepla       1%     Rx   \n",
      "2963                                                NaN       0%     Rx   \n",
      "2964                                                NaN       0%     Rx   \n",
      "2965                                           Imcivree       0%     Rx   \n",
      "\n",
      "     pregnancy_category csa  ... Unnamed: 125 Unnamed: 126 Unnamed: 127  \\\n",
      "0                     D   N  ...          NaN          NaN          NaN   \n",
      "1                     C   N  ...          NaN          NaN          NaN   \n",
      "2                     D   N  ...          NaN          NaN          NaN   \n",
      "3                     X   N  ...          NaN          NaN          NaN   \n",
      "4                     B   N  ...          NaN          NaN          NaN   \n",
      "...                 ...  ..  ...          ...          ...          ...   \n",
      "2961                  X   3  ...          NaN          NaN          NaN   \n",
      "2962                  C   4  ...          NaN          NaN          NaN   \n",
      "2963                  C   3  ...          NaN          NaN          NaN   \n",
      "2964                NaN   N  ...          NaN          NaN          NaN   \n",
      "2965                NaN   N  ...          NaN          NaN          NaN   \n",
      "\n",
      "     Unnamed: 128 Unnamed: 129 Unnamed: 130 Unnamed: 131 Unnamed: 132  \\\n",
      "0             NaN          NaN          NaN          NaN          NaN   \n",
      "1             NaN          NaN          NaN          NaN          NaN   \n",
      "2             NaN          NaN          NaN          NaN          NaN   \n",
      "3             NaN          NaN          NaN          NaN          NaN   \n",
      "4             NaN          NaN          NaN          NaN          NaN   \n",
      "...           ...          ...          ...          ...          ...   \n",
      "2961          NaN          NaN          NaN          NaN          NaN   \n",
      "2962          NaN          NaN          NaN          NaN          NaN   \n",
      "2963          NaN          NaN          NaN          NaN          NaN   \n",
      "2964          NaN          NaN          NaN          NaN          NaN   \n",
      "2965          NaN          NaN          NaN          NaN          NaN   \n",
      "\n",
      "     Unnamed: 133 Unnamed: 134  \n",
      "0             NaN          NaN  \n",
      "1             NaN          NaN  \n",
      "2             NaN          NaN  \n",
      "3             NaN          NaN  \n",
      "4             NaN          NaN  \n",
      "...           ...          ...  \n",
      "2961          NaN          NaN  \n",
      "2962          NaN          NaN  \n",
      "2963          NaN          NaN  \n",
      "2964          NaN          NaN  \n",
      "2965          NaN          NaN  \n",
      "\n",
      "[2966 rows x 135 columns]\n"
     ]
    }
   ],
   "source": [
    "data =pd.read_csv('C:/Users/Khushboo/Downloads/drugs_side_effects_drugs_com.csv ')\n",
    "print(data)"
   ]
  },
  {
   "cell_type": "code",
   "execution_count": 24,
   "id": "d6aae18a-627b-4e4b-98a1-d1dd35a86e9b",
   "metadata": {},
   "outputs": [
    {
     "name": "stdout",
     "output_type": "stream",
     "text": [
      "The dataset has 2966 rows and 135 columns\n",
      "column:\n",
      "Index(['drug_name', 'medical_condition', 'side_effects', 'generic_name',\n",
      "       'drug_classes', 'brand_names', 'activity', 'rx_otc',\n",
      "       'pregnancy_category', 'csa',\n",
      "       ...\n",
      "       'Unnamed: 125', 'Unnamed: 126', 'Unnamed: 127', 'Unnamed: 128',\n",
      "       'Unnamed: 129', 'Unnamed: 130', 'Unnamed: 131', 'Unnamed: 132',\n",
      "       'Unnamed: 133', 'Unnamed: 134'],\n",
      "      dtype='object', length=135)\n"
     ]
    }
   ],
   "source": [
    "# Display the columns quantity and names\n",
    "print('The dataset has {} rows and {} columns'.format(data.shape[0], data.shape[1]))\n",
    "print(\"column:\")\n",
    "print(data.columns)"
   ]
  },
  {
   "cell_type": "code",
   "execution_count": 25,
   "id": "4364b3d1-e0de-4f6d-9df7-8fe574fbb215",
   "metadata": {},
   "outputs": [
    {
     "name": "stdout",
     "output_type": "stream",
     "text": [
      "<class 'pandas.core.frame.DataFrame'>\n",
      "RangeIndex: 2966 entries, 0 to 2965\n",
      "Columns: 135 entries, drug_name to Unnamed: 134\n",
      "dtypes: float64(3), object(132)\n",
      "memory usage: 3.1+ MB\n"
     ]
    }
   ],
   "source": [
    "# Show the main information about dataset\n",
    "\n",
    "data.info()"
   ]
  },
  {
   "cell_type": "code",
   "execution_count": 26,
   "id": "75f5aa11-2414-4aab-969b-d127ca692fc9",
   "metadata": {},
   "outputs": [
    {
     "data": {
      "text/html": [
       "<div>\n",
       "<style scoped>\n",
       "    .dataframe tbody tr th:only-of-type {\n",
       "        vertical-align: middle;\n",
       "    }\n",
       "\n",
       "    .dataframe tbody tr th {\n",
       "        vertical-align: top;\n",
       "    }\n",
       "\n",
       "    .dataframe thead th {\n",
       "        text-align: right;\n",
       "    }\n",
       "</style>\n",
       "<table border=\"1\" class=\"dataframe\">\n",
       "  <thead>\n",
       "    <tr style=\"text-align: right;\">\n",
       "      <th></th>\n",
       "      <th>drug_name</th>\n",
       "      <th>medical_condition</th>\n",
       "      <th>side_effects</th>\n",
       "      <th>generic_name</th>\n",
       "      <th>drug_classes</th>\n",
       "      <th>brand_names</th>\n",
       "      <th>activity</th>\n",
       "      <th>rx_otc</th>\n",
       "      <th>pregnancy_category</th>\n",
       "      <th>csa</th>\n",
       "      <th>...</th>\n",
       "      <th>Unnamed: 125</th>\n",
       "      <th>Unnamed: 126</th>\n",
       "      <th>Unnamed: 127</th>\n",
       "      <th>Unnamed: 128</th>\n",
       "      <th>Unnamed: 129</th>\n",
       "      <th>Unnamed: 130</th>\n",
       "      <th>Unnamed: 131</th>\n",
       "      <th>Unnamed: 132</th>\n",
       "      <th>Unnamed: 133</th>\n",
       "      <th>Unnamed: 134</th>\n",
       "    </tr>\n",
       "  </thead>\n",
       "  <tbody>\n",
       "    <tr>\n",
       "      <th>0</th>\n",
       "      <td>doxycycline</td>\n",
       "      <td>Acne</td>\n",
       "      <td>(hives, difficult breathing, swelling in your ...</td>\n",
       "      <td>doxycycline</td>\n",
       "      <td>Miscellaneous antimalarials, Tetracyclines</td>\n",
       "      <td>Acticlate, Adoxa CK, Adoxa Pak, Adoxa TT, Alod...</td>\n",
       "      <td>87%</td>\n",
       "      <td>Rx</td>\n",
       "      <td>D</td>\n",
       "      <td>N</td>\n",
       "      <td>...</td>\n",
       "      <td>NaN</td>\n",
       "      <td>NaN</td>\n",
       "      <td>NaN</td>\n",
       "      <td>NaN</td>\n",
       "      <td>NaN</td>\n",
       "      <td>NaN</td>\n",
       "      <td>NaN</td>\n",
       "      <td>NaN</td>\n",
       "      <td>NaN</td>\n",
       "      <td>NaN</td>\n",
       "    </tr>\n",
       "    <tr>\n",
       "      <th>1</th>\n",
       "      <td>spironolactone</td>\n",
       "      <td>Acne</td>\n",
       "      <td>hives ; difficulty breathing; swelling of your...</td>\n",
       "      <td>spironolactone</td>\n",
       "      <td>Aldosterone receptor antagonists, Potassium-sp...</td>\n",
       "      <td>Aldactone, CaroSpir</td>\n",
       "      <td>82%</td>\n",
       "      <td>Rx</td>\n",
       "      <td>C</td>\n",
       "      <td>N</td>\n",
       "      <td>...</td>\n",
       "      <td>NaN</td>\n",
       "      <td>NaN</td>\n",
       "      <td>NaN</td>\n",
       "      <td>NaN</td>\n",
       "      <td>NaN</td>\n",
       "      <td>NaN</td>\n",
       "      <td>NaN</td>\n",
       "      <td>NaN</td>\n",
       "      <td>NaN</td>\n",
       "      <td>NaN</td>\n",
       "    </tr>\n",
       "    <tr>\n",
       "      <th>2</th>\n",
       "      <td>minocycline</td>\n",
       "      <td>Acne</td>\n",
       "      <td>skin rash, fever, swollen glands, flu-like sym...</td>\n",
       "      <td>minocycline</td>\n",
       "      <td>Tetracyclines</td>\n",
       "      <td>Dynacin, Minocin, Minolira, Solodyn, Ximino, V...</td>\n",
       "      <td>48%</td>\n",
       "      <td>Rx</td>\n",
       "      <td>D</td>\n",
       "      <td>N</td>\n",
       "      <td>...</td>\n",
       "      <td>NaN</td>\n",
       "      <td>NaN</td>\n",
       "      <td>NaN</td>\n",
       "      <td>NaN</td>\n",
       "      <td>NaN</td>\n",
       "      <td>NaN</td>\n",
       "      <td>NaN</td>\n",
       "      <td>NaN</td>\n",
       "      <td>NaN</td>\n",
       "      <td>NaN</td>\n",
       "    </tr>\n",
       "    <tr>\n",
       "      <th>3</th>\n",
       "      <td>Accutane</td>\n",
       "      <td>Acne</td>\n",
       "      <td>problems with your vision or hearing; muscle o...</td>\n",
       "      <td>isotretinoin (oral)</td>\n",
       "      <td>Miscellaneous antineoplastics, Miscellaneous u...</td>\n",
       "      <td>NaN</td>\n",
       "      <td>41%</td>\n",
       "      <td>Rx</td>\n",
       "      <td>X</td>\n",
       "      <td>N</td>\n",
       "      <td>...</td>\n",
       "      <td>NaN</td>\n",
       "      <td>NaN</td>\n",
       "      <td>NaN</td>\n",
       "      <td>NaN</td>\n",
       "      <td>NaN</td>\n",
       "      <td>NaN</td>\n",
       "      <td>NaN</td>\n",
       "      <td>NaN</td>\n",
       "      <td>NaN</td>\n",
       "      <td>NaN</td>\n",
       "    </tr>\n",
       "    <tr>\n",
       "      <th>4</th>\n",
       "      <td>clindamycin</td>\n",
       "      <td>Acne</td>\n",
       "      <td>hives ; difficult breathing; swelling of your ...</td>\n",
       "      <td>clindamycin topical</td>\n",
       "      <td>Topical acne agents, Vaginal anti-infectives</td>\n",
       "      <td>Cleocin T, Clindacin ETZ, Clindacin P, Clindag...</td>\n",
       "      <td>39%</td>\n",
       "      <td>Rx</td>\n",
       "      <td>B</td>\n",
       "      <td>N</td>\n",
       "      <td>...</td>\n",
       "      <td>NaN</td>\n",
       "      <td>NaN</td>\n",
       "      <td>NaN</td>\n",
       "      <td>NaN</td>\n",
       "      <td>NaN</td>\n",
       "      <td>NaN</td>\n",
       "      <td>NaN</td>\n",
       "      <td>NaN</td>\n",
       "      <td>NaN</td>\n",
       "      <td>NaN</td>\n",
       "    </tr>\n",
       "  </tbody>\n",
       "</table>\n",
       "<p>5 rows × 135 columns</p>\n",
       "</div>"
      ],
      "text/plain": [
       "        drug_name medical_condition  \\\n",
       "0     doxycycline              Acne   \n",
       "1  spironolactone              Acne   \n",
       "2     minocycline              Acne   \n",
       "3        Accutane              Acne   \n",
       "4     clindamycin              Acne   \n",
       "\n",
       "                                        side_effects         generic_name  \\\n",
       "0  (hives, difficult breathing, swelling in your ...          doxycycline   \n",
       "1  hives ; difficulty breathing; swelling of your...       spironolactone   \n",
       "2  skin rash, fever, swollen glands, flu-like sym...          minocycline   \n",
       "3  problems with your vision or hearing; muscle o...  isotretinoin (oral)   \n",
       "4  hives ; difficult breathing; swelling of your ...  clindamycin topical   \n",
       "\n",
       "                                        drug_classes  \\\n",
       "0         Miscellaneous antimalarials, Tetracyclines   \n",
       "1  Aldosterone receptor antagonists, Potassium-sp...   \n",
       "2                                      Tetracyclines   \n",
       "3  Miscellaneous antineoplastics, Miscellaneous u...   \n",
       "4       Topical acne agents, Vaginal anti-infectives   \n",
       "\n",
       "                                         brand_names activity rx_otc  \\\n",
       "0  Acticlate, Adoxa CK, Adoxa Pak, Adoxa TT, Alod...      87%     Rx   \n",
       "1                                Aldactone, CaroSpir      82%     Rx   \n",
       "2  Dynacin, Minocin, Minolira, Solodyn, Ximino, V...      48%     Rx   \n",
       "3                                                NaN      41%     Rx   \n",
       "4  Cleocin T, Clindacin ETZ, Clindacin P, Clindag...      39%     Rx   \n",
       "\n",
       "  pregnancy_category csa  ... Unnamed: 125 Unnamed: 126 Unnamed: 127  \\\n",
       "0                  D   N  ...          NaN          NaN          NaN   \n",
       "1                  C   N  ...          NaN          NaN          NaN   \n",
       "2                  D   N  ...          NaN          NaN          NaN   \n",
       "3                  X   N  ...          NaN          NaN          NaN   \n",
       "4                  B   N  ...          NaN          NaN          NaN   \n",
       "\n",
       "  Unnamed: 128 Unnamed: 129 Unnamed: 130 Unnamed: 131 Unnamed: 132  \\\n",
       "0          NaN          NaN          NaN          NaN          NaN   \n",
       "1          NaN          NaN          NaN          NaN          NaN   \n",
       "2          NaN          NaN          NaN          NaN          NaN   \n",
       "3          NaN          NaN          NaN          NaN          NaN   \n",
       "4          NaN          NaN          NaN          NaN          NaN   \n",
       "\n",
       "  Unnamed: 133 Unnamed: 134  \n",
       "0          NaN          NaN  \n",
       "1          NaN          NaN  \n",
       "2          NaN          NaN  \n",
       "3          NaN          NaN  \n",
       "4          NaN          NaN  \n",
       "\n",
       "[5 rows x 135 columns]"
      ]
     },
     "execution_count": 26,
     "metadata": {},
     "output_type": "execute_result"
    }
   ],
   "source": [
    "data.head()"
   ]
  },
  {
   "cell_type": "code",
   "execution_count": 27,
   "id": "6ba061ff-5ba1-4b9d-a0d6-19c602eb52d9",
   "metadata": {},
   "outputs": [],
   "source": [
    "# Dropping the 'brand_names' column and delete from dataset\n",
    "data.drop(columns=['brand_names'], inplace=True)"
   ]
  },
  {
   "cell_type": "code",
   "execution_count": 29,
   "id": "d0245942-2f68-4b3b-921b-df5664dfdb75",
   "metadata": {},
   "outputs": [],
   "source": [
    "# Find duplicate rows based on all columns\n",
    "duplicate_rows= data[data.duplicated()]"
   ]
  },
  {
   "cell_type": "code",
   "execution_count": 30,
   "id": "722f950b-edc9-4bc8-8bcc-b2d9cbdd1776",
   "metadata": {},
   "outputs": [],
   "source": [
    "#Count the duplicated rows\n",
    "duplicate_count = duplicate_rows.shape[0]"
   ]
  },
  {
   "cell_type": "code",
   "execution_count": 31,
   "id": "7818ce31-f205-4882-92ce-9561214c042a",
   "metadata": {},
   "outputs": [
    {
     "name": "stdout",
     "output_type": "stream",
     "text": [
      "Count of Duplicate Rows: 0\n",
      "Empty DataFrame\n",
      "Columns: [drug_name, medical_condition, side_effects, generic_name, drug_classes, activity, rx_otc, pregnancy_category, csa, alcohol, related_drugs, medical_condition_description, rating, no_of_reviews, drug_link, medical_condition_url, Unnamed: 17, Unnamed: 18, Unnamed: 19, Unnamed: 20, Unnamed: 21, Unnamed: 22, Unnamed: 23, Unnamed: 24, Unnamed: 25, Unnamed: 26, Unnamed: 27, Unnamed: 28, Unnamed: 29, Unnamed: 30, Unnamed: 31, Unnamed: 32, Unnamed: 33, Unnamed: 34, Unnamed: 35, Unnamed: 36, Unnamed: 37, Unnamed: 38, Unnamed: 39, Unnamed: 40, Unnamed: 41, Unnamed: 42, Unnamed: 43, Unnamed: 44, Unnamed: 45, Unnamed: 46, Unnamed: 47, Unnamed: 48, Unnamed: 49, Unnamed: 50, Unnamed: 51, Unnamed: 52, Unnamed: 53, Unnamed: 54, Unnamed: 55, Unnamed: 56, Unnamed: 57, Unnamed: 58, Unnamed: 59, Unnamed: 60, Unnamed: 61, Unnamed: 62, Unnamed: 63, Unnamed: 64, Unnamed: 65, Unnamed: 66, Unnamed: 67, Unnamed: 68, Unnamed: 69, Unnamed: 70, Unnamed: 71, Unnamed: 72, Unnamed: 73, Unnamed: 74, Unnamed: 75, Unnamed: 76, Unnamed: 77, Unnamed: 78, Unnamed: 79, Unnamed: 80, Unnamed: 81, Unnamed: 82, Unnamed: 83, Unnamed: 84, Unnamed: 85, Unnamed: 86, Unnamed: 87, Unnamed: 88, Unnamed: 89, Unnamed: 90, Unnamed: 91, Unnamed: 92, Unnamed: 93, Unnamed: 94, Unnamed: 95, Unnamed: 96, Unnamed: 97, Unnamed: 98, Unnamed: 99, Unnamed: 100, ...]\n",
      "Index: []\n",
      "\n",
      "[0 rows x 134 columns]\n"
     ]
    }
   ],
   "source": [
    "# Print the count of duplicate rows\n",
    "print(\"Count of Duplicate Rows:\", duplicate_count)\n",
    "print(duplicate_rows)"
   ]
  },
  {
   "cell_type": "code",
   "execution_count": 32,
   "id": "6c7fc7b8-4b1e-4c72-851b-80ea5926d900",
   "metadata": {},
   "outputs": [],
   "source": [
    "# Convert 'rating' and 'no_of_reviews' attributes to numeric\n",
    "data['rating'] = pd.to_numeric(data['rating'], errors='coerce')"
   ]
  },
  {
   "cell_type": "code",
   "execution_count": 33,
   "id": "da7c0800-22b0-4402-93d3-3cb52cbac852",
   "metadata": {},
   "outputs": [
    {
     "name": "stdout",
     "output_type": "stream",
     "text": [
      "object     130\n",
      "float64      4\n",
      "Name: count, dtype: int64\n"
     ]
    }
   ],
   "source": [
    "# data['no_of_reviews'] = pd.to_numeric(data['no_of_reviews'],errors='coerce')\n",
    "\n",
    "print(data.dtypes.value_counts())"
   ]
  },
  {
   "cell_type": "code",
   "execution_count": 34,
   "id": "995bd0df-0970-4704-94e0-b9e74ee79f51",
   "metadata": {},
   "outputs": [],
   "source": [
    "# Convert 'activity' to string, remove whitespace and '%' character, then convert to float and divide by 100\n",
    "data['activity'] = (\n",
    "    data['activity'].astype(str)\n",
    "    .str.replace(r'\\s+', '', regex=True)   # whitespace hatao\n",
    "    .str.replace('%', '', regex=True)     # % symbol hatao\n",
    ")\n",
    "\n",
    "# Ab safely numbers me convert karo (errors='coerce' rakho)\n",
    "data['activity'] = pd.to_numeric(data['activity'], errors='coerce') / 100"
   ]
  },
  {
   "cell_type": "code",
   "execution_count": 35,
   "id": "68fd14c5-846c-42ad-95d6-1f141432e473",
   "metadata": {},
   "outputs": [
    {
     "data": {
      "text/plain": [
       "array([0.87, 0.82, 0.48, 0.41, 0.39, 0.35, 0.3 , 0.26, 0.2 , 0.17, 0.13,\n",
       "       0.12, 0.09, 0.08, 0.07, 0.06, 0.05, 0.04, 0.03, 0.02])"
      ]
     },
     "execution_count": 35,
     "metadata": {},
     "output_type": "execute_result"
    }
   ],
   "source": [
    "data['activity'].unique()[:20]"
   ]
  },
  {
   "cell_type": "code",
   "execution_count": 36,
   "id": "5326f1da-f850-4621-8342-e1ad3bfe2dab",
   "metadata": {},
   "outputs": [
    {
     "name": "stdout",
     "output_type": "stream",
     "text": [
      "There are 354990 missing values in this dataset\n",
      "Number of instances = 2966\n",
      "Number of attributes = 134\n",
      "Number of missing values:\n",
      "\tdrug_name: 1\n",
      "\tmedical_condition: 0\n",
      "\tside_effects: 124\n",
      "\tgeneric_name: 44\n",
      "\tdrug_classes: 83\n",
      "\tactivity: 36\n",
      "\trx_otc: 2\n",
      "\tpregnancy_category: 230\n",
      "\tcsa: 1\n",
      "\talcohol: 1554\n",
      "\trelated_drugs: 1470\n",
      "\tmedical_condition_description: 1\n",
      "\trating: 1396\n",
      "\tno_of_reviews: 1361\n",
      "\tdrug_link: 35\n",
      "\tmedical_condition_url: 35\n",
      "\tUnnamed: 17: 2931\n",
      "\tUnnamed: 18: 2931\n",
      "\tUnnamed: 19: 2931\n",
      "\tUnnamed: 20: 2931\n",
      "\tUnnamed: 21: 2931\n",
      "\tUnnamed: 22: 2931\n",
      "\tUnnamed: 23: 2931\n",
      "\tUnnamed: 24: 2931\n",
      "\tUnnamed: 25: 2931\n",
      "\tUnnamed: 26: 2931\n",
      "\tUnnamed: 27: 2931\n",
      "\tUnnamed: 28: 2931\n",
      "\tUnnamed: 29: 2931\n",
      "\tUnnamed: 30: 2931\n",
      "\tUnnamed: 31: 2931\n",
      "\tUnnamed: 32: 2931\n",
      "\tUnnamed: 33: 2931\n",
      "\tUnnamed: 34: 2931\n",
      "\tUnnamed: 35: 2931\n",
      "\tUnnamed: 36: 2931\n",
      "\tUnnamed: 37: 2931\n",
      "\tUnnamed: 38: 2931\n",
      "\tUnnamed: 39: 2931\n",
      "\tUnnamed: 40: 2931\n",
      "\tUnnamed: 41: 2931\n",
      "\tUnnamed: 42: 2931\n",
      "\tUnnamed: 43: 2931\n",
      "\tUnnamed: 44: 2931\n",
      "\tUnnamed: 45: 2931\n",
      "\tUnnamed: 46: 2931\n",
      "\tUnnamed: 47: 2931\n",
      "\tUnnamed: 48: 2931\n",
      "\tUnnamed: 49: 2931\n",
      "\tUnnamed: 50: 2931\n",
      "\tUnnamed: 51: 2949\n",
      "\tUnnamed: 52: 2949\n",
      "\tUnnamed: 53: 2931\n",
      "\tUnnamed: 54: 2931\n",
      "\tUnnamed: 55: 2965\n",
      "\tUnnamed: 56: 2965\n",
      "\tUnnamed: 57: 2965\n",
      "\tUnnamed: 58: 2965\n",
      "\tUnnamed: 59: 2965\n",
      "\tUnnamed: 60: 2965\n",
      "\tUnnamed: 61: 2965\n",
      "\tUnnamed: 62: 2965\n",
      "\tUnnamed: 63: 2965\n",
      "\tUnnamed: 64: 2965\n",
      "\tUnnamed: 65: 2965\n",
      "\tUnnamed: 66: 2965\n",
      "\tUnnamed: 67: 2965\n",
      "\tUnnamed: 68: 2965\n",
      "\tUnnamed: 69: 2965\n",
      "\tUnnamed: 70: 2965\n",
      "\tUnnamed: 71: 2965\n",
      "\tUnnamed: 72: 2965\n",
      "\tUnnamed: 73: 2965\n",
      "\tUnnamed: 74: 2965\n",
      "\tUnnamed: 75: 2965\n",
      "\tUnnamed: 76: 2965\n",
      "\tUnnamed: 77: 2965\n",
      "\tUnnamed: 78: 2965\n",
      "\tUnnamed: 79: 2965\n",
      "\tUnnamed: 80: 2965\n",
      "\tUnnamed: 81: 2965\n",
      "\tUnnamed: 82: 2965\n",
      "\tUnnamed: 83: 2965\n",
      "\tUnnamed: 84: 2965\n",
      "\tUnnamed: 85: 2965\n",
      "\tUnnamed: 86: 2965\n",
      "\tUnnamed: 87: 2965\n",
      "\tUnnamed: 88: 2965\n",
      "\tUnnamed: 89: 2965\n",
      "\tUnnamed: 90: 2965\n",
      "\tUnnamed: 91: 2965\n",
      "\tUnnamed: 92: 2965\n",
      "\tUnnamed: 93: 2965\n",
      "\tUnnamed: 94: 2965\n",
      "\tUnnamed: 95: 2965\n",
      "\tUnnamed: 96: 2965\n",
      "\tUnnamed: 97: 2965\n",
      "\tUnnamed: 98: 2965\n",
      "\tUnnamed: 99: 2965\n",
      "\tUnnamed: 100: 2965\n",
      "\tUnnamed: 101: 2965\n",
      "\tUnnamed: 102: 2965\n",
      "\tUnnamed: 103: 2965\n",
      "\tUnnamed: 104: 2965\n",
      "\tUnnamed: 105: 2965\n",
      "\tUnnamed: 106: 2965\n",
      "\tUnnamed: 107: 2965\n",
      "\tUnnamed: 108: 2965\n",
      "\tUnnamed: 109: 2965\n",
      "\tUnnamed: 110: 2965\n",
      "\tUnnamed: 111: 2965\n",
      "\tUnnamed: 112: 2965\n",
      "\tUnnamed: 113: 2965\n",
      "\tUnnamed: 114: 2965\n",
      "\tUnnamed: 115: 2965\n",
      "\tUnnamed: 116: 2965\n",
      "\tUnnamed: 117: 2965\n",
      "\tUnnamed: 118: 2965\n",
      "\tUnnamed: 119: 2965\n",
      "\tUnnamed: 120: 2965\n",
      "\tUnnamed: 121: 2965\n",
      "\tUnnamed: 122: 2965\n",
      "\tUnnamed: 123: 2965\n",
      "\tUnnamed: 124: 2965\n",
      "\tUnnamed: 125: 2965\n",
      "\tUnnamed: 126: 2965\n",
      "\tUnnamed: 127: 2965\n",
      "\tUnnamed: 128: 2966\n",
      "\tUnnamed: 129: 2965\n",
      "\tUnnamed: 130: 2965\n",
      "\tUnnamed: 131: 2966\n",
      "\tUnnamed: 132: 2966\n",
      "\tUnnamed: 133: 2965\n",
      "\tUnnamed: 134: 2965\n"
     ]
    }
   ],
   "source": [
    "# Print the total number of missing values\n",
    "print(\"There are {} missing values in this dataset\".format(data.isnull().sum().sum()))\n",
    "print('Number of instances = %d' % (data.shape[0]))\n",
    "print('Number of attributes = %d' % (data.shape[1]))\n",
    "print('Number of missing values:')\n",
    "for col in data.columns:\n",
    "    print('\\t%s: %d' % (col,data[col].isna().sum()))"
   ]
  },
  {
   "cell_type": "code",
   "execution_count": 37,
   "id": "bb038ddc-537b-4bce-9afd-b0f36782e910",
   "metadata": {},
   "outputs": [],
   "source": [
    "# In the alcohol column we have X and null(NaN) values, because the drug can interact with alcohol or not.\n",
    "# Therefore, let's replace the values of ak=lcohol column with boolean values.\n",
    "# Let X will be 1 of interaction, NaN will be 0.\n",
    "data['alcohol']=data['alcohol'].replace(np.NaN,'0')\n",
    "data['alcohol']=data['alcohol'].replace({'X': 1})"
   ]
  },
  {
   "cell_type": "code",
   "execution_count": 38,
   "id": "33e844a8-c3bf-442d-919a-3acb603a2367",
   "metadata": {},
   "outputs": [],
   "source": [
    "# To avoid missing values let's fill them with some information\n",
    "# In our case we will replace all them\n",
    "# Fill the null values in 'side_effects' and 'related_drugs'with no:\n",
    "data[\"side_effects\"] = data['side_effects'].fillna('Unknown')\n",
    "data[\"related_drugs\"] = data['related_drugs'].fillna('Unknown')"
   ]
  },
  {
   "cell_type": "code",
   "execution_count": 39,
   "id": "1bb8ffc8-b638-443d-a4c9-4dc8b764bb06",
   "metadata": {},
   "outputs": [],
   "source": [
    "# Fill the null values with 0 as a base for 'rating' and 'no_of_reviews' columns\n",
    "\n",
    "# It will show that there are no information about it\n",
    "data[\"rating\"] = data['rating'].fillna('0')\n",
    "data[\"no_of_reviews\"] = data['no_of_reviews'].fillna('0')"
   ]
  },
  {
   "cell_type": "code",
   "execution_count": 40,
   "id": "82f77d2e-935c-41ec-9dbe-c58df21964dc",
   "metadata": {},
   "outputs": [],
   "source": [
    "# Fill the null values with ?\n",
    "\n",
    "data['generic_name']=data['generic_name'].replace(np.NaN,'Unknown')"
   ]
  },
  {
   "cell_type": "code",
   "execution_count": 41,
   "id": "6817338a-408a-4a2e-8c0a-32d1719ddfef",
   "metadata": {},
   "outputs": [],
   "source": [
    "# Fill the null values with undefined for 'drug_classes'\n",
    "data['drug_classes']=data['drug_classes'].replace(np.NaN,'Unknown')"
   ]
  },
  {
   "cell_type": "code",
   "execution_count": 42,
   "id": "d0913c77-2f99-4b8a-8523-194f4464ceac",
   "metadata": {},
   "outputs": [
    {
     "data": {
      "text/plain": [
       "array(['Rx', 'Rx/OTC', 'OTC',\n",
       "       ' and efficacy against moderate-to-severe COVID-19 was 84%. Efficacy against any severity of the Delta variant of COVID-19 was 79%. The SCB-2019 antigen is combined with CpG 1018 advanced adjuvant and aluminum hydroxide (alum). Sputnik V (Gam-COVID-Vac) Vaccine platform: Non-Replicating Viral Vector On February 2',\n",
       "       nan, 'e):b()};h(3)}'], dtype=object)"
      ]
     },
     "execution_count": 42,
     "metadata": {},
     "output_type": "execute_result"
    }
   ],
   "source": [
    "# For these two columns we already have some category values from dataset's description\n",
    "# So, let's check the categorical values\n",
    "\n",
    "# For Rx_OTC\n",
    "data[\"rx_otc\"].unique()"
   ]
  },
  {
   "cell_type": "code",
   "execution_count": 43,
   "id": "94393c66-1aab-4546-b4a9-b211d1862e00",
   "metadata": {},
   "outputs": [
    {
     "data": {
      "text/plain": [
       "array(['D', 'C', 'X', 'B', 'N', nan,\n",
       "       ' 2021 interim analysis of results of randomised controlled Phase 3 trial showed Gam-COVID-Vac had a 91.6% efficacy against COVID-19. It is a combined vector vaccine based on recombinant adenovirus type 26 (rAd26) and recombinant adenovirus type 5 (rAd5) which are administered intramuscularly separately with a 21-day interval. V590 and V591 Vaccine platform: Replicating Viral Vector Merck announced a collaboration with IAVI (International AIDS Vaccine Initiative) to develop an investigational vaccine against SARS-CoV-2',\n",
       "       'A',\n",
       "       'ha=function(a){var b=document.createElement(\"\"div\"\");b.className=a;b.style.width=\"\"1px\"\";b.style.height=\"\"1px\"\";b.style.position=\"\"absolute\"\";b.style.left=\"\"-10000px\"\";b.style.top=\"\"-10000px\"\";b.style.zIndex=\"\"-10000\"\";return b};var K={}'],\n",
       "      dtype=object)"
      ]
     },
     "execution_count": 43,
     "metadata": {},
     "output_type": "execute_result"
    }
   ],
   "source": [
    "# For pregnancy categories\n",
    "data[\"pregnancy_category\"].unique()"
   ]
  },
  {
   "cell_type": "code",
   "execution_count": 35,
   "id": "98ddf653-a0a8-46ed-8439-9be73036d916",
   "metadata": {},
   "outputs": [],
   "source": [
    "# Fill the null value with Unknown as a basic value\n",
    "\n",
    "data['rx_otc']=data['rx_otc'].replace(np.NaN, 'Unknown')"
   ]
  },
  {
   "cell_type": "code",
   "execution_count": 37,
   "id": "7953038c-7d32-4617-a34b-e9655718a41b",
   "metadata": {},
   "outputs": [],
   "source": [
    "# Fill the null value with Unknown as a basic value\n",
    "\n",
    "data['pregnancy_category']=data['pregnancy_category'].replace(np.NaN, 'Unknown')\n",
    "data['no_of_reviews'] = pd.to_numeric(data['no_of_reviews'],errors='coerce')"
   ]
  },
  {
   "cell_type": "code",
   "execution_count": 44,
   "id": "79abd30b-bf3e-4a08-984d-7089e13e9aad",
   "metadata": {},
   "outputs": [
    {
     "name": "stdout",
     "output_type": "stream",
     "text": [
      "        drug_name medical_condition  \\\n",
      "0     doxycycline              Acne   \n",
      "1  spironolactone              Acne   \n",
      "2     minocycline              Acne   \n",
      "3        Accutane              Acne   \n",
      "4     clindamycin              Acne   \n",
      "\n",
      "                                        side_effects         generic_name  \\\n",
      "0  (hives, difficult breathing, swelling in your ...          doxycycline   \n",
      "1  hives ; difficulty breathing; swelling of your...       spironolactone   \n",
      "2  skin rash, fever, swollen glands, flu-like sym...          minocycline   \n",
      "3  problems with your vision or hearing; muscle o...  isotretinoin (oral)   \n",
      "4  hives ; difficult breathing; swelling of your ...  clindamycin topical   \n",
      "\n",
      "                                        drug_classes  activity rx_otc  \\\n",
      "0         Miscellaneous antimalarials, Tetracyclines      0.87     Rx   \n",
      "1  Aldosterone receptor antagonists, Potassium-sp...      0.82     Rx   \n",
      "2                                      Tetracyclines      0.48     Rx   \n",
      "3  Miscellaneous antineoplastics, Miscellaneous u...      0.41     Rx   \n",
      "4       Topical acne agents, Vaginal anti-infectives      0.39     Rx   \n",
      "\n",
      "  pregnancy_category csa alcohol  ... Unnamed: 125 Unnamed: 126 Unnamed: 127  \\\n",
      "0                  D   N       1  ...          NaN          NaN          NaN   \n",
      "1                  C   N       1  ...          NaN          NaN          NaN   \n",
      "2                  D   N       0  ...          NaN          NaN          NaN   \n",
      "3                  X   N       1  ...          NaN          NaN          NaN   \n",
      "4                  B   N       0  ...          NaN          NaN          NaN   \n",
      "\n",
      "  Unnamed: 128 Unnamed: 129 Unnamed: 130 Unnamed: 131 Unnamed: 132  \\\n",
      "0          NaN          NaN          NaN          NaN          NaN   \n",
      "1          NaN          NaN          NaN          NaN          NaN   \n",
      "2          NaN          NaN          NaN          NaN          NaN   \n",
      "3          NaN          NaN          NaN          NaN          NaN   \n",
      "4          NaN          NaN          NaN          NaN          NaN   \n",
      "\n",
      "  Unnamed: 133 Unnamed: 134  \n",
      "0          NaN          NaN  \n",
      "1          NaN          NaN  \n",
      "2          NaN          NaN  \n",
      "3          NaN          NaN  \n",
      "4          NaN          NaN  \n",
      "\n",
      "[5 rows x 134 columns]\n"
     ]
    }
   ],
   "source": [
    "print(data.head())"
   ]
  },
  {
   "cell_type": "code",
   "execution_count": 45,
   "id": "ab5bc586-22a5-448c-8082-208d6904097d",
   "metadata": {},
   "outputs": [],
   "source": [
    "dfs=data.copy()"
   ]
  },
  {
   "cell_type": "code",
   "execution_count": 46,
   "id": "c09b1cb8-9cd5-4ca8-84ac-ce947e64dadc",
   "metadata": {},
   "outputs": [
    {
     "name": "stdout",
     "output_type": "stream",
     "text": [
      "There are 348958 missing values in this dataset\n",
      "Number of instances = 2966\n",
      "Number of attributes = 134\n",
      "Number of missing values:\n",
      "\tdrug_name: 1\n",
      "\tmedical_condition: 0\n",
      "\tside_effects: 0\n",
      "\tgeneric_name: 0\n",
      "\tdrug_classes: 0\n",
      "\tactivity: 36\n",
      "\trx_otc: 2\n",
      "\tpregnancy_category: 230\n",
      "\tcsa: 1\n",
      "\talcohol: 0\n",
      "\trelated_drugs: 0\n",
      "\tmedical_condition_description: 1\n",
      "\trating: 0\n",
      "\tno_of_reviews: 0\n",
      "\tdrug_link: 35\n",
      "\tmedical_condition_url: 35\n",
      "\tUnnamed: 17: 2931\n",
      "\tUnnamed: 18: 2931\n",
      "\tUnnamed: 19: 2931\n",
      "\tUnnamed: 20: 2931\n",
      "\tUnnamed: 21: 2931\n",
      "\tUnnamed: 22: 2931\n",
      "\tUnnamed: 23: 2931\n",
      "\tUnnamed: 24: 2931\n",
      "\tUnnamed: 25: 2931\n",
      "\tUnnamed: 26: 2931\n",
      "\tUnnamed: 27: 2931\n",
      "\tUnnamed: 28: 2931\n",
      "\tUnnamed: 29: 2931\n",
      "\tUnnamed: 30: 2931\n",
      "\tUnnamed: 31: 2931\n",
      "\tUnnamed: 32: 2931\n",
      "\tUnnamed: 33: 2931\n",
      "\tUnnamed: 34: 2931\n",
      "\tUnnamed: 35: 2931\n",
      "\tUnnamed: 36: 2931\n",
      "\tUnnamed: 37: 2931\n",
      "\tUnnamed: 38: 2931\n",
      "\tUnnamed: 39: 2931\n",
      "\tUnnamed: 40: 2931\n",
      "\tUnnamed: 41: 2931\n",
      "\tUnnamed: 42: 2931\n",
      "\tUnnamed: 43: 2931\n",
      "\tUnnamed: 44: 2931\n",
      "\tUnnamed: 45: 2931\n",
      "\tUnnamed: 46: 2931\n",
      "\tUnnamed: 47: 2931\n",
      "\tUnnamed: 48: 2931\n",
      "\tUnnamed: 49: 2931\n",
      "\tUnnamed: 50: 2931\n",
      "\tUnnamed: 51: 2949\n",
      "\tUnnamed: 52: 2949\n",
      "\tUnnamed: 53: 2931\n",
      "\tUnnamed: 54: 2931\n",
      "\tUnnamed: 55: 2965\n",
      "\tUnnamed: 56: 2965\n",
      "\tUnnamed: 57: 2965\n",
      "\tUnnamed: 58: 2965\n",
      "\tUnnamed: 59: 2965\n",
      "\tUnnamed: 60: 2965\n",
      "\tUnnamed: 61: 2965\n",
      "\tUnnamed: 62: 2965\n",
      "\tUnnamed: 63: 2965\n",
      "\tUnnamed: 64: 2965\n",
      "\tUnnamed: 65: 2965\n",
      "\tUnnamed: 66: 2965\n",
      "\tUnnamed: 67: 2965\n",
      "\tUnnamed: 68: 2965\n",
      "\tUnnamed: 69: 2965\n",
      "\tUnnamed: 70: 2965\n",
      "\tUnnamed: 71: 2965\n",
      "\tUnnamed: 72: 2965\n",
      "\tUnnamed: 73: 2965\n",
      "\tUnnamed: 74: 2965\n",
      "\tUnnamed: 75: 2965\n",
      "\tUnnamed: 76: 2965\n",
      "\tUnnamed: 77: 2965\n",
      "\tUnnamed: 78: 2965\n",
      "\tUnnamed: 79: 2965\n",
      "\tUnnamed: 80: 2965\n",
      "\tUnnamed: 81: 2965\n",
      "\tUnnamed: 82: 2965\n",
      "\tUnnamed: 83: 2965\n",
      "\tUnnamed: 84: 2965\n",
      "\tUnnamed: 85: 2965\n",
      "\tUnnamed: 86: 2965\n",
      "\tUnnamed: 87: 2965\n",
      "\tUnnamed: 88: 2965\n",
      "\tUnnamed: 89: 2965\n",
      "\tUnnamed: 90: 2965\n",
      "\tUnnamed: 91: 2965\n",
      "\tUnnamed: 92: 2965\n",
      "\tUnnamed: 93: 2965\n",
      "\tUnnamed: 94: 2965\n",
      "\tUnnamed: 95: 2965\n",
      "\tUnnamed: 96: 2965\n",
      "\tUnnamed: 97: 2965\n",
      "\tUnnamed: 98: 2965\n",
      "\tUnnamed: 99: 2965\n",
      "\tUnnamed: 100: 2965\n",
      "\tUnnamed: 101: 2965\n",
      "\tUnnamed: 102: 2965\n",
      "\tUnnamed: 103: 2965\n",
      "\tUnnamed: 104: 2965\n",
      "\tUnnamed: 105: 2965\n",
      "\tUnnamed: 106: 2965\n",
      "\tUnnamed: 107: 2965\n",
      "\tUnnamed: 108: 2965\n",
      "\tUnnamed: 109: 2965\n",
      "\tUnnamed: 110: 2965\n",
      "\tUnnamed: 111: 2965\n",
      "\tUnnamed: 112: 2965\n",
      "\tUnnamed: 113: 2965\n",
      "\tUnnamed: 114: 2965\n",
      "\tUnnamed: 115: 2965\n",
      "\tUnnamed: 116: 2965\n",
      "\tUnnamed: 117: 2965\n",
      "\tUnnamed: 118: 2965\n",
      "\tUnnamed: 119: 2965\n",
      "\tUnnamed: 120: 2965\n",
      "\tUnnamed: 121: 2965\n",
      "\tUnnamed: 122: 2965\n",
      "\tUnnamed: 123: 2965\n",
      "\tUnnamed: 124: 2965\n",
      "\tUnnamed: 125: 2965\n",
      "\tUnnamed: 126: 2965\n",
      "\tUnnamed: 127: 2965\n",
      "\tUnnamed: 128: 2966\n",
      "\tUnnamed: 129: 2965\n",
      "\tUnnamed: 130: 2965\n",
      "\tUnnamed: 131: 2966\n",
      "\tUnnamed: 132: 2966\n",
      "\tUnnamed: 133: 2965\n",
      "\tUnnamed: 134: 2965\n"
     ]
    }
   ],
   "source": [
    "# Let's check is there any missing values left\n",
    "print(\"There are {} missing values in this dataset\".format(data.isnull().sum().sum()))\n",
    "print('Number of instances = %d' % (data.shape[0]))\n",
    "print('Number of attributes = %d' % (data.shape[1]))\n",
    "print('Number of missing values:')\n",
    "for col in data.columns:\n",
    "    print('\\t%s: %d' % (col,data[col].isna().sum()))"
   ]
  },
  {
   "cell_type": "code",
   "execution_count": 47,
   "id": "5d20ebb1-0ddf-4751-8963-cd080c821ac4",
   "metadata": {},
   "outputs": [],
   "source": [
    "data_version2=data.copy()"
   ]
  },
  {
   "cell_type": "code",
   "execution_count": 48,
   "id": "b4bda1b0-a618-4346-8afd-b9668a03b590",
   "metadata": {},
   "outputs": [
    {
     "name": "stdout",
     "output_type": "stream",
     "text": [
      "        drug_name medical_condition  \\\n",
      "0     doxycycline              Acne   \n",
      "1  spironolactone              Acne   \n",
      "2     minocycline              Acne   \n",
      "3        Accutane              Acne   \n",
      "4     clindamycin              Acne   \n",
      "\n",
      "                                        side_effects         generic_name  \\\n",
      "0  (hives, difficult breathing, swelling in your ...          doxycycline   \n",
      "1  hives ; difficulty breathing; swelling of your...       spironolactone   \n",
      "2  skin rash, fever, swollen glands, flu-like sym...          minocycline   \n",
      "3  problems with your vision or hearing; muscle o...  isotretinoin (oral)   \n",
      "4  hives ; difficult breathing; swelling of your ...  clindamycin topical   \n",
      "\n",
      "                                        drug_classes  activity rx_otc  \\\n",
      "0         Miscellaneous antimalarials, Tetracyclines      0.87     Rx   \n",
      "1  Aldosterone receptor antagonists, Potassium-sp...      0.82     Rx   \n",
      "2                                      Tetracyclines      0.48     Rx   \n",
      "3  Miscellaneous antineoplastics, Miscellaneous u...      0.41     Rx   \n",
      "4       Topical acne agents, Vaginal anti-infectives      0.39     Rx   \n",
      "\n",
      "  pregnancy_category csa alcohol  ... Unnamed: 125 Unnamed: 126 Unnamed: 127  \\\n",
      "0                  D   N       1  ...          NaN          NaN          NaN   \n",
      "1                  C   N       1  ...          NaN          NaN          NaN   \n",
      "2                  D   N       0  ...          NaN          NaN          NaN   \n",
      "3                  X   N       1  ...          NaN          NaN          NaN   \n",
      "4                  B   N       0  ...          NaN          NaN          NaN   \n",
      "\n",
      "  Unnamed: 128 Unnamed: 129 Unnamed: 130 Unnamed: 131 Unnamed: 132  \\\n",
      "0          NaN          NaN          NaN          NaN          NaN   \n",
      "1          NaN          NaN          NaN          NaN          NaN   \n",
      "2          NaN          NaN          NaN          NaN          NaN   \n",
      "3          NaN          NaN          NaN          NaN          NaN   \n",
      "4          NaN          NaN          NaN          NaN          NaN   \n",
      "\n",
      "  Unnamed: 133 Unnamed: 134  \n",
      "0          NaN          NaN  \n",
      "1          NaN          NaN  \n",
      "2          NaN          NaN  \n",
      "3          NaN          NaN  \n",
      "4          NaN          NaN  \n",
      "\n",
      "[5 rows x 134 columns]\n"
     ]
    }
   ],
   "source": [
    "print(data_version2.head())"
   ]
  },
  {
   "cell_type": "code",
   "execution_count": 49,
   "id": "7965b1de-7eec-4295-9958-3b37e470e8b3",
   "metadata": {},
   "outputs": [],
   "source": [
    "# Save the data\n",
    "data_version2.to_csv('C:/Users/Khushboo/Downloads/drugs_side_effects_v2.csv', index=False)"
   ]
  },
  {
   "cell_type": "code",
   "execution_count": 50,
   "id": "47e7b090-be1a-4948-b586-47acda1d60f4",
   "metadata": {},
   "outputs": [
    {
     "data": {
      "text/plain": [
       "array(['D', 'C', 'X', 'B', 'N', nan,\n",
       "       ' 2021 interim analysis of results of randomised controlled Phase 3 trial showed Gam-COVID-Vac had a 91.6% efficacy against COVID-19. It is a combined vector vaccine based on recombinant adenovirus type 26 (rAd26) and recombinant adenovirus type 5 (rAd5) which are administered intramuscularly separately with a 21-day interval. V590 and V591 Vaccine platform: Replicating Viral Vector Merck announced a collaboration with IAVI (International AIDS Vaccine Initiative) to develop an investigational vaccine against SARS-CoV-2',\n",
       "       'A',\n",
       "       'ha=function(a){var b=document.createElement(\"\"div\"\");b.className=a;b.style.width=\"\"1px\"\";b.style.height=\"\"1px\"\";b.style.position=\"\"absolute\"\";b.style.left=\"\"-10000px\"\";b.style.top=\"\"-10000px\"\";b.style.zIndex=\"\"-10000\"\";return b};var K={}'],\n",
       "      dtype=object)"
      ]
     },
     "execution_count": 50,
     "metadata": {},
     "output_type": "execute_result"
    }
   ],
   "source": [
    "# Read the new version dataset\n",
    "\n",
    "data_ver3=pd.read_csv('C:/Users/Khushboo/Downloads/drugs_side_effects_v2.csv')\n",
    "data_ver3[\"pregnancy_category\"].unique()"
   ]
  },
  {
   "cell_type": "code",
   "execution_count": 51,
   "id": "6b65fe90-ad9e-4467-b1cb-e61f2a4d0a38",
   "metadata": {},
   "outputs": [
    {
     "data": {
      "text/plain": [
       "array(['N', '2', '4', 'U', 'M', '5',\n",
       "       ' using the recombinant vesicular stomatitis virus (rVSV) technology that is the basis for its Ebola Zaire virus vaccine (Ervebo). On January 25',\n",
       "       '3', nan, 'L=null;var M=function(){}'], dtype=object)"
      ]
     },
     "execution_count": 51,
     "metadata": {},
     "output_type": "execute_result"
    }
   ],
   "source": [
    "data_ver3[\"csa\"].unique()"
   ]
  },
  {
   "cell_type": "code",
   "execution_count": 52,
   "id": "0fb13572-cc03-4ae7-9363-d6c0485db6e9",
   "metadata": {},
   "outputs": [
    {
     "data": {
      "text/plain": [
       "array(['Rx', 'Rx/OTC', 'OTC',\n",
       "       ' and efficacy against moderate-to-severe COVID-19 was 84%. Efficacy against any severity of the Delta variant of COVID-19 was 79%. The SCB-2019 antigen is combined with CpG 1018 advanced adjuvant and aluminum hydroxide (alum). Sputnik V (Gam-COVID-Vac) Vaccine platform: Non-Replicating Viral Vector On February 2',\n",
       "       nan, 'e):b()};h(3)}'], dtype=object)"
      ]
     },
     "execution_count": 52,
     "metadata": {},
     "output_type": "execute_result"
    }
   ],
   "source": [
    "data_ver3[\"rx_otc\"].unique()"
   ]
  },
  {
   "cell_type": "code",
   "execution_count": 53,
   "id": "3abcdd2c-e070-4713-9c53-16b538a10ce1",
   "metadata": {},
   "outputs": [
    {
     "data": {
      "text/plain": [
       "array(['doxycycline', 'spironolactone', 'minocycline', ...,\n",
       "       'fenfluramine', 'phendimetrazine tartrate', 'setmelanotide'],\n",
       "      dtype=object)"
      ]
     },
     "execution_count": 53,
     "metadata": {},
     "output_type": "execute_result"
    }
   ],
   "source": [
    "data_ver3[\"generic_name\"].unique()"
   ]
  },
  {
   "cell_type": "code",
   "execution_count": 54,
   "id": "bcebec23-6475-4804-a773-61a5c4a671a2",
   "metadata": {},
   "outputs": [
    {
     "data": {
      "text/plain": [
       "array(['Acne', 'ADHD', 'AIDS/HIV', 'Allergies', \"Alzheimer's\", 'Angina',\n",
       "       'Anxiety', 'Asthma', 'Bipolar Disorder', 'Bronchitis', 'Cancer',\n",
       "       'Cholesterol', 'Colds & Flu', 'Constipation', 'COPD', 'Covid 19',\n",
       "       ' INO-4800. MRT5500 Vaccine platform: mRNA vaccine On September 28',\n",
       "       'Depression', 'Diabetes (Type 1)', 'Diabetes (Type 2)', 'Diarrhea',\n",
       "       'Eczema', 'Erectile Dysfunction', 'Gastrointestinal',\n",
       "       'GERD (Heartburn)', 'Gout', 'Hair Loss', 'Hayfever', 'Herpes',\n",
       "       'Hypertension', 'Hypothyroidism', 'IBD (Bowel)', 'd',\n",
       "       'Incontinence', 'Insomnia', 'Menopause', 'Migraine',\n",
       "       'Osteoarthritis', 'Osteoporosis', 'Pain', 'Pneumonia', 'Psoriasis',\n",
       "       'Rheumatoid Arthritis', 'Schizophrenia', 'Seizures', 'Stroke',\n",
       "       'Swine Flu', 'UTI', 'Weight Loss'], dtype=object)"
      ]
     },
     "execution_count": 54,
     "metadata": {},
     "output_type": "execute_result"
    }
   ],
   "source": [
    "data_ver3[\"medical_condition\"].unique()"
   ]
  },
  {
   "cell_type": "code",
   "execution_count": 55,
   "id": "83813da9-d0f0-42c6-9eea-52ceacc2ef09",
   "metadata": {},
   "outputs": [],
   "source": [
    "from sklearn.preprocessing import LabelEncoder\n",
    "label_encoder = LabelEncoder()\n",
    "data_ver3[\"csa\"]=label_encoder.fit_transform(data_ver3[\"csa\"])\n",
    "data_ver3[\"rx_otc\"]=label_encoder.fit_transform(data_ver3[\"rx_otc\"])\n",
    "data_ver3[\"generic_name\"] =label_encoder.fit_transform(data_ver3[\"generic_name\"])\n",
    "data_ver3[\"medical_condition\"] =label_encoder.fit_transform(data_ver3[\"medical_condition\"])\n",
    "data_ver3[\"pregnancy_category\"] =label_encoder.fit_transform(data_ver3[\"pregnancy_category\"])\n",
    "data_ver3[\"side_effects\"] =label_encoder.fit_transform(data_ver3[\"side_effects\"])"
   ]
  },
  {
   "cell_type": "code",
   "execution_count": 56,
   "id": "156f6736-241f-475a-8986-a363d3e38e69",
   "metadata": {},
   "outputs": [
    {
     "data": {
      "text/plain": [
       "array([ 643, 1271, 1035, ...,  730, 1158, 1260])"
      ]
     },
     "execution_count": 56,
     "metadata": {},
     "output_type": "execute_result"
    }
   ],
   "source": [
    "data_ver3[\"generic_name\"].unique()"
   ]
  },
  {
   "cell_type": "code",
   "execution_count": 58,
   "id": "fd97cfef-98f1-4511-93b9-71cb22433f8e",
   "metadata": {},
   "outputs": [
    {
     "data": {
      "text/plain": [
       "array([2, 3, 1, 0, 5, 4])"
      ]
     },
     "execution_count": 58,
     "metadata": {},
     "output_type": "execute_result"
    }
   ],
   "source": [
    "data_ver3[\"rx_otc\"].unique()"
   ]
  },
  {
   "cell_type": "code",
   "execution_count": 59,
   "id": "67988f6f-f4a7-43d0-975c-a6ca3600d85d",
   "metadata": {},
   "outputs": [
    {
     "data": {
      "text/plain": [
       "array([7, 1, 3, 8, 6, 4, 0, 2, 9, 5])"
      ]
     },
     "execution_count": 59,
     "metadata": {},
     "output_type": "execute_result"
    }
   ],
   "source": [
    "data_ver3[\"csa\"].unique()"
   ]
  },
  {
   "cell_type": "code",
   "execution_count": 60,
   "id": "7a377a7e-3c6b-45d3-85bd-a1319ed67dc7",
   "metadata": {},
   "outputs": [
    {
     "data": {
      "text/plain": [
       "array([  16, 1974, 2699, ..., 1649,  417, 1708])"
      ]
     },
     "execution_count": 60,
     "metadata": {},
     "output_type": "execute_result"
    }
   ],
   "source": [
    "data_ver3[\"side_effects\"].unique()"
   ]
  },
  {
   "cell_type": "code",
   "execution_count": 61,
   "id": "e15c5066-60aa-4a3c-806c-992ee3a4a7af",
   "metadata": {},
   "outputs": [
    {
     "data": {
      "text/plain": [
       "array([ 3,  1,  2,  4,  5,  6,  7,  8,  9, 10, 12, 13, 14, 15, 11, 16,  0,\n",
       "       17, 18, 19, 20, 21, 22, 24, 23, 25, 26, 27, 28, 29, 30, 31, 48, 32,\n",
       "       33, 34, 35, 36, 37, 38, 39, 40, 41, 42, 43, 44, 45, 46, 47])"
      ]
     },
     "execution_count": 61,
     "metadata": {},
     "output_type": "execute_result"
    }
   ],
   "source": [
    "data_ver3[\"medical_condition\"].unique()"
   ]
  },
  {
   "cell_type": "code",
   "execution_count": 62,
   "id": "fbe00199-bf62-4a8e-aee6-e10c2210cab0",
   "metadata": {},
   "outputs": [
    {
     "data": {
      "text/plain": [
       "array([4, 3, 6, 2, 5, 8, 0, 1, 7])"
      ]
     },
     "execution_count": 62,
     "metadata": {},
     "output_type": "execute_result"
    }
   ],
   "source": [
    "data_ver3[\"pregnancy_category\"].unique()"
   ]
  },
  {
   "cell_type": "code",
   "execution_count": 63,
   "id": "28af3061-1743-4da7-8ce5-6a8a99ad2881",
   "metadata": {},
   "outputs": [
    {
     "name": "stdout",
     "output_type": "stream",
     "text": [
      "      generic_name  medical_condition no_of_reviews  side_effects  rating  \\\n",
      "0              643                  3           760            16     6.8   \n",
      "1             1271                  3           449          1974     7.2   \n",
      "2             1035                  3           482          2699     5.7   \n",
      "3              903                  3           623          2572     7.9   \n",
      "4              506                  3           146          1262     7.4   \n",
      "...            ...                ...           ...           ...     ...   \n",
      "2961           362                 47            17          1957     7.5   \n",
      "2962           730                 47             0          1649     0.0   \n",
      "2963          1158                 47             0           533     0.0   \n",
      "2964          1260                 47             0           417     0.0   \n",
      "2965          1260                 47             0          1708     0.0   \n",
      "\n",
      "      csa  pregnancy_category  rx_otc alcohol  \n",
      "0       7                   4       2       1  \n",
      "1       7                   3       2       1  \n",
      "2       7                   4       2       0  \n",
      "3       7                   6       2       1  \n",
      "4       7                   2       2       0  \n",
      "...   ...                 ...     ...     ...  \n",
      "2961    2                   6       2       1  \n",
      "2962    3                   3       2       1  \n",
      "2963    2                   3       2       1  \n",
      "2964    7                   8       2       0  \n",
      "2965    7                   8       2       0  \n",
      "\n",
      "[2966 rows x 9 columns]\n"
     ]
    }
   ],
   "source": [
    "df=pd.DataFrame(data_ver3,columns=('generic_name','medical_condition', 'no_of_reviews', 'side_effects', 'rating','csa', 'pregnancy_category', 'rx_otc', 'alcohol'))\n",
    "print(df)"
   ]
  },
  {
   "cell_type": "code",
   "execution_count": 64,
   "id": "6c006fd7-cee4-459b-8fce-0c84cf9dbeb9",
   "metadata": {},
   "outputs": [
    {
     "data": {
      "text/html": [
       "<div>\n",
       "<style scoped>\n",
       "    .dataframe tbody tr th:only-of-type {\n",
       "        vertical-align: middle;\n",
       "    }\n",
       "\n",
       "    .dataframe tbody tr th {\n",
       "        vertical-align: top;\n",
       "    }\n",
       "\n",
       "    .dataframe thead th {\n",
       "        text-align: right;\n",
       "    }\n",
       "</style>\n",
       "<table border=\"1\" class=\"dataframe\">\n",
       "  <thead>\n",
       "    <tr style=\"text-align: right;\">\n",
       "      <th></th>\n",
       "      <th>generic_name</th>\n",
       "      <th>medical_condition</th>\n",
       "      <th>no_of_reviews</th>\n",
       "      <th>side_effects</th>\n",
       "      <th>rating</th>\n",
       "      <th>csa</th>\n",
       "      <th>pregnancy_category</th>\n",
       "      <th>rx_otc</th>\n",
       "      <th>alcohol</th>\n",
       "    </tr>\n",
       "  </thead>\n",
       "  <tbody>\n",
       "    <tr>\n",
       "      <th>0</th>\n",
       "      <td>643</td>\n",
       "      <td>3</td>\n",
       "      <td>760</td>\n",
       "      <td>16</td>\n",
       "      <td>6.8</td>\n",
       "      <td>7</td>\n",
       "      <td>4</td>\n",
       "      <td>2</td>\n",
       "      <td>1</td>\n",
       "    </tr>\n",
       "    <tr>\n",
       "      <th>1</th>\n",
       "      <td>1271</td>\n",
       "      <td>3</td>\n",
       "      <td>449</td>\n",
       "      <td>1974</td>\n",
       "      <td>7.2</td>\n",
       "      <td>7</td>\n",
       "      <td>3</td>\n",
       "      <td>2</td>\n",
       "      <td>1</td>\n",
       "    </tr>\n",
       "    <tr>\n",
       "      <th>2</th>\n",
       "      <td>1035</td>\n",
       "      <td>3</td>\n",
       "      <td>482</td>\n",
       "      <td>2699</td>\n",
       "      <td>5.7</td>\n",
       "      <td>7</td>\n",
       "      <td>4</td>\n",
       "      <td>2</td>\n",
       "      <td>0</td>\n",
       "    </tr>\n",
       "    <tr>\n",
       "      <th>3</th>\n",
       "      <td>903</td>\n",
       "      <td>3</td>\n",
       "      <td>623</td>\n",
       "      <td>2572</td>\n",
       "      <td>7.9</td>\n",
       "      <td>7</td>\n",
       "      <td>6</td>\n",
       "      <td>2</td>\n",
       "      <td>1</td>\n",
       "    </tr>\n",
       "    <tr>\n",
       "      <th>4</th>\n",
       "      <td>506</td>\n",
       "      <td>3</td>\n",
       "      <td>146</td>\n",
       "      <td>1262</td>\n",
       "      <td>7.4</td>\n",
       "      <td>7</td>\n",
       "      <td>2</td>\n",
       "      <td>2</td>\n",
       "      <td>0</td>\n",
       "    </tr>\n",
       "    <tr>\n",
       "      <th>5</th>\n",
       "      <td>1271</td>\n",
       "      <td>3</td>\n",
       "      <td>8</td>\n",
       "      <td>1973</td>\n",
       "      <td>7.6</td>\n",
       "      <td>7</td>\n",
       "      <td>3</td>\n",
       "      <td>2</td>\n",
       "      <td>1</td>\n",
       "    </tr>\n",
       "    <tr>\n",
       "      <th>6</th>\n",
       "      <td>1336</td>\n",
       "      <td>3</td>\n",
       "      <td>439</td>\n",
       "      <td>1897</td>\n",
       "      <td>7.7</td>\n",
       "      <td>7</td>\n",
       "      <td>3</td>\n",
       "      <td>2</td>\n",
       "      <td>0</td>\n",
       "    </tr>\n",
       "    <tr>\n",
       "      <th>7</th>\n",
       "      <td>903</td>\n",
       "      <td>3</td>\n",
       "      <td>999</td>\n",
       "      <td>2579</td>\n",
       "      <td>8.0</td>\n",
       "      <td>7</td>\n",
       "      <td>6</td>\n",
       "      <td>2</td>\n",
       "      <td>1</td>\n",
       "    </tr>\n",
       "    <tr>\n",
       "      <th>8</th>\n",
       "      <td>1277</td>\n",
       "      <td>3</td>\n",
       "      <td>96</td>\n",
       "      <td>2704</td>\n",
       "      <td>8.5</td>\n",
       "      <td>7</td>\n",
       "      <td>4</td>\n",
       "      <td>2</td>\n",
       "      <td>1</td>\n",
       "    </tr>\n",
       "    <tr>\n",
       "      <th>9</th>\n",
       "      <td>163</td>\n",
       "      <td>3</td>\n",
       "      <td>86</td>\n",
       "      <td>2407</td>\n",
       "      <td>7.9</td>\n",
       "      <td>7</td>\n",
       "      <td>3</td>\n",
       "      <td>2</td>\n",
       "      <td>0</td>\n",
       "    </tr>\n",
       "  </tbody>\n",
       "</table>\n",
       "</div>"
      ],
      "text/plain": [
       "   generic_name  medical_condition no_of_reviews  side_effects  rating  csa  \\\n",
       "0           643                  3           760            16     6.8    7   \n",
       "1          1271                  3           449          1974     7.2    7   \n",
       "2          1035                  3           482          2699     5.7    7   \n",
       "3           903                  3           623          2572     7.9    7   \n",
       "4           506                  3           146          1262     7.4    7   \n",
       "5          1271                  3             8          1973     7.6    7   \n",
       "6          1336                  3           439          1897     7.7    7   \n",
       "7           903                  3           999          2579     8.0    7   \n",
       "8          1277                  3            96          2704     8.5    7   \n",
       "9           163                  3            86          2407     7.9    7   \n",
       "\n",
       "   pregnancy_category  rx_otc alcohol  \n",
       "0                   4       2       1  \n",
       "1                   3       2       1  \n",
       "2                   4       2       0  \n",
       "3                   6       2       1  \n",
       "4                   2       2       0  \n",
       "5                   3       2       1  \n",
       "6                   3       2       0  \n",
       "7                   6       2       1  \n",
       "8                   4       2       1  \n",
       "9                   3       2       0  "
      ]
     },
     "execution_count": 64,
     "metadata": {},
     "output_type": "execute_result"
    }
   ],
   "source": [
    "df.head(10)"
   ]
  },
  {
   "cell_type": "code",
   "execution_count": 65,
   "id": "c00d9a0a-0d07-4c91-b91a-20b6a9fbc018",
   "metadata": {},
   "outputs": [
    {
     "name": "stdout",
     "output_type": "stream",
     "text": [
      "[[ 0.83741653]\n",
      " [ 0.94268363]\n",
      " [ 0.54793198]\n",
      " ...\n",
      " [-0.95212431]\n",
      " [-0.95212431]\n",
      " [-0.95212431]]\n"
     ]
    }
   ],
   "source": [
    "from sklearn.preprocessing import StandardScaler\n",
    "\n",
    "scaler = StandardScaler()\n",
    "\n",
    "numeric_cols = df.select_dtypes(include=['float64', 'int64']).columns\n",
    "scaled_data = scaler.fit_transform(df[numeric_cols])\n",
    "\n",
    "print(scaled_data)"
   ]
  },
  {
   "cell_type": "code",
   "execution_count": 66,
   "id": "658a96da-e55a-4a04-8bcc-87ea8c5217e9",
   "metadata": {},
   "outputs": [
    {
     "name": "stdout",
     "output_type": "stream",
     "text": [
      "      generic_name  medical_condition no_of_reviews  side_effects    rating  \\\n",
      "0              643                  3           760            16  0.837417   \n",
      "1             1271                  3           449          1974  0.942684   \n",
      "2             1035                  3           482          2699  0.547932   \n",
      "3              903                  3           623          2572  1.126901   \n",
      "4              506                  3           146          1262  0.995317   \n",
      "...            ...                ...           ...           ...       ...   \n",
      "2961           362                 47            17          1957  1.021634   \n",
      "2962           730                 47             0          1649 -0.952124   \n",
      "2963          1158                 47             0           533 -0.952124   \n",
      "2964          1260                 47             0           417 -0.952124   \n",
      "2965          1260                 47             0          1708 -0.952124   \n",
      "\n",
      "      csa  pregnancy_category  rx_otc alcohol  \n",
      "0       7                   4       2       1  \n",
      "1       7                   3       2       1  \n",
      "2       7                   4       2       0  \n",
      "3       7                   6       2       1  \n",
      "4       7                   2       2       0  \n",
      "...   ...                 ...     ...     ...  \n",
      "2961    2                   6       2       1  \n",
      "2962    3                   3       2       1  \n",
      "2963    2                   3       2       1  \n",
      "2964    7                   8       2       0  \n",
      "2965    7                   8       2       0  \n",
      "\n",
      "[2966 rows x 9 columns]\n"
     ]
    }
   ],
   "source": [
    "from sklearn.preprocessing import StandardScaler\n",
    "\n",
    "scaler = StandardScaler()\n",
    "\n",
    "# Sirf numeric columns select\n",
    "numeric_cols = df.select_dtypes(include=['float64', 'int64']).columns\n",
    "\n",
    "# Scaling only numeric columns\n",
    "scaled_data = scaler.fit_transform(df[numeric_cols])\n",
    "\n",
    "# New DataFrame with scaled numeric data\n",
    "df_scaled = df.copy()\n",
    "df_scaled[numeric_cols] = scaled_data\n",
    "\n",
    "print(df_scaled)"
   ]
  },
  {
   "cell_type": "code",
   "execution_count": 74,
   "id": "bfa2e855-bf82-4031-ba34-0b11fc27746e",
   "metadata": {},
   "outputs": [],
   "source": [
    "df[numeric_cols] = df[numeric_cols].fillna(0)  # Ya dropna()"
   ]
  },
  {
   "cell_type": "code",
   "execution_count": 67,
   "id": "c913ba6c-c159-4ffb-94ff-b07ab6bc0e61",
   "metadata": {},
   "outputs": [
    {
     "data": {
      "text/plain": [
       "generic_name            int32\n",
       "medical_condition       int32\n",
       "no_of_reviews          object\n",
       "side_effects            int32\n",
       "rating                float64\n",
       "csa                     int32\n",
       "pregnancy_category      int32\n",
       "rx_otc                  int32\n",
       "alcohol                object\n",
       "dtype: object"
      ]
     },
     "execution_count": 67,
     "metadata": {},
     "output_type": "execute_result"
    }
   ],
   "source": [
    "df.dtypes"
   ]
  },
  {
   "cell_type": "code",
   "execution_count": 68,
   "id": "b4dac9d4-9da9-43ca-91e6-fc9480a777d0",
   "metadata": {},
   "outputs": [],
   "source": [
    "import seaborn as sns\n",
    "import matplotlib.pyplot as plt"
   ]
  },
  {
   "cell_type": "code",
   "execution_count": 69,
   "id": "4f71ef59-cec8-4d41-bda0-ad83e5de3b04",
   "metadata": {},
   "outputs": [],
   "source": [
    "numeric_df = df.select_dtypes(include=['float64', 'int64'])"
   ]
  },
  {
   "cell_type": "code",
   "execution_count": 70,
   "id": "cc9ba1f4-d117-445d-860b-fd943ef95ed3",
   "metadata": {},
   "outputs": [
    {
     "data": {
      "image/png": "[encoded data removed]",
      "text/plain": [
       "<Figure size 1200x800 with 2 Axes>"
      ]
     },
     "metadata": {},
     "output_type": "display_data"
    }
   ],
   "source": [
    "plt.figure(figsize=(12, 8))\n",
    "sns.heatmap(numeric_df.corr(), annot=True, cmap='coolwarm', fmt=\".2f\")\n",
    "plt.title('Correlation Heatmap')\n",
    "plt.show()"
   ]
  },
  {
   "cell_type": "code",
   "execution_count": 71,
   "id": "f7c07143-0ead-4d65-b98b-bd20b4b5c0c8",
   "metadata": {},
   "outputs": [],
   "source": [
    "# Read the new version dataset\n",
    "\n",
    "data_ver4 =pd.read_csv('C:/Users/Khushboo/Downloads/drugs_side_effects_v2.csv')"
   ]
  },
  {
   "cell_type": "code",
   "execution_count": 83,
   "id": "0a98887c-58cb-446d-a7f9-0a0cda9bc5ea",
   "metadata": {},
   "outputs": [
    {
     "name": "stdout",
     "output_type": "stream",
     "text": [
      "Defaulting to user installation because normal site-packages is not writeable\n",
      "Requirement already satisfied: mlxtend in c:\\users\\khushboo\\appdata\\roaming\\python\\python312\\site-packages (0.23.4)\n",
      "Requirement already satisfied: scipy>=1.2.1 in c:\\programdata\\anaconda3\\lib\\site-packages (from mlxtend) (1.13.1)\n",
      "Requirement already satisfied: numpy>=1.16.2 in c:\\programdata\\anaconda3\\lib\\site-packages (from mlxtend) (1.26.4)\n",
      "Requirement already satisfied: pandas>=0.24.2 in c:\\programdata\\anaconda3\\lib\\site-packages (from mlxtend) (2.2.2)\n",
      "Requirement already satisfied: scikit-learn>=1.3.1 in c:\\programdata\\anaconda3\\lib\\site-packages (from mlxtend) (1.5.1)\n",
      "Requirement already satisfied: matplotlib>=3.0.0 in c:\\programdata\\anaconda3\\lib\\site-packages (from mlxtend) (3.9.2)\n",
      "Requirement already satisfied: joblib>=0.13.2 in c:\\programdata\\anaconda3\\lib\\site-packages (from mlxtend) (1.4.2)\n",
      "Requirement already satisfied: contourpy>=1.0.1 in c:\\programdata\\anaconda3\\lib\\site-packages (from matplotlib>=3.0.0->mlxtend) (1.2.0)\n",
      "Requirement already satisfied: cycler>=0.10 in c:\\programdata\\anaconda3\\lib\\site-packages (from matplotlib>=3.0.0->mlxtend) (0.11.0)\n",
      "Requirement already satisfied: fonttools>=4.22.0 in c:\\programdata\\anaconda3\\lib\\site-packages (from matplotlib>=3.0.0->mlxtend) (4.51.0)\n",
      "Requirement already satisfied: kiwisolver>=1.3.1 in c:\\programdata\\anaconda3\\lib\\site-packages (from matplotlib>=3.0.0->mlxtend) (1.4.4)\n",
      "Requirement already satisfied: packaging>=20.0 in c:\\programdata\\anaconda3\\lib\\site-packages (from matplotlib>=3.0.0->mlxtend) (24.1)\n",
      "Requirement already satisfied: pillow>=8 in c:\\programdata\\anaconda3\\lib\\site-packages (from matplotlib>=3.0.0->mlxtend) (10.4.0)\n",
      "Requirement already satisfied: pyparsing>=2.3.1 in c:\\programdata\\anaconda3\\lib\\site-packages (from matplotlib>=3.0.0->mlxtend) (3.1.2)\n",
      "Requirement already satisfied: python-dateutil>=2.7 in c:\\programdata\\anaconda3\\lib\\site-packages (from matplotlib>=3.0.0->mlxtend) (2.9.0.post0)\n",
      "Requirement already satisfied: pytz>=2020.1 in c:\\programdata\\anaconda3\\lib\\site-packages (from pandas>=0.24.2->mlxtend) (2024.1)\n",
      "Requirement already satisfied: tzdata>=2022.7 in c:\\programdata\\anaconda3\\lib\\site-packages (from pandas>=0.24.2->mlxtend) (2023.3)\n",
      "Requirement already satisfied: threadpoolctl>=3.1.0 in c:\\programdata\\anaconda3\\lib\\site-packages (from scikit-learn>=1.3.1->mlxtend) (3.5.0)\n",
      "Requirement already satisfied: six>=1.5 in c:\\programdata\\anaconda3\\lib\\site-packages (from python-dateutil>=2.7->matplotlib>=3.0.0->mlxtend) (1.16.0)\n",
      "Note: you may need to restart the kernel to use updated packages.\n"
     ]
    }
   ],
   "source": [
    "pip install mlxtend"
   ]
  },
  {
   "cell_type": "code",
   "execution_count": 72,
   "id": "1fe85ad8-ef5d-45d4-8d71-06acabc023d1",
   "metadata": {},
   "outputs": [
    {
     "name": "stdout",
     "output_type": "stream",
     "text": [
      "Defaulting to user installation because normal site-packages is not writeable\n",
      "Note: you may need to restart the kernel to use updated packages.\n"
     ]
    },
    {
     "name": "stderr",
     "output_type": "stream",
     "text": [
      "ERROR: Could not find a version that satisfies the requirement conda-forge (from versions: none)\n",
      "ERROR: No matching distribution found for conda-forge\n"
     ]
    }
   ],
   "source": [
    "pip install conda-forge mlxtend"
   ]
  },
  {
   "cell_type": "code",
   "execution_count": 73,
   "id": "a5052aa1-ba54-484d-a7bc-65dfe4965645",
   "metadata": {},
   "outputs": [],
   "source": [
    "# Importing necessary libraries\n",
    "from mlxtend.frequent_patterns import apriori, association_rules"
   ]
  },
  {
   "cell_type": "code",
   "execution_count": 74,
   "id": "14aff75b-95e4-4d1a-9848-833c27a59dec",
   "metadata": {},
   "outputs": [],
   "source": [
    "import matplotlib.pyplot as plt\n",
    "import pandas as pd"
   ]
  },
  {
   "cell_type": "code",
   "execution_count": 75,
   "id": "ca277ebf-559a-489b-b907-506310d45ab0",
   "metadata": {},
   "outputs": [
    {
     "name": "stdout",
     "output_type": "stream",
     "text": [
      "\n",
      "Medical condition occurrence and frequency:\n",
      "medical_condition\n",
      "Pain                                                                 264\n",
      "Colds & Flu                                                          245\n",
      "Acne                                                                 238\n",
      "Hypertension                                                         177\n",
      "Osteoarthritis                                                       129\n",
      "Hayfever                                                             124\n",
      "Eczema                                                               122\n",
      "AIDS/HIV                                                             109\n",
      "Diabetes (Type 2)                                                    104\n",
      "Psoriasis                                                             93\n",
      "GERD (Heartburn)                                                      77\n",
      "Pneumonia                                                             72\n",
      "Bronchitis                                                            71\n",
      "Angina                                                                71\n",
      "Migraine                                                              61\n",
      "Constipation                                                          60\n",
      "Insomnia                                                              60\n",
      "Diabetes (Type 1)                                                     57\n",
      "Osteoporosis                                                          56\n",
      "ADHD                                                                  55\n",
      "Depression                                                            51\n",
      "Seizures                                                              50\n",
      "Bipolar Disorder                                                      47\n",
      "UTI                                                                   46\n",
      "Cholesterol                                                           45\n",
      "Asthma                                                                45\n",
      "Anxiety                                                               45\n",
      "Diarrhea                                                              38\n",
      " INO-4800. MRT5500 Vaccine platform: mRNA vaccine On September 28     34\n",
      "Covid 19                                                              34\n",
      "Rheumatoid Arthritis                                                  33\n",
      "Alzheimer's                                                           27\n",
      "Weight Loss                                                           23\n",
      "COPD                                                                  23\n",
      "IBD (Bowel)                                                           22\n",
      "Cancer                                                                20\n",
      "Schizophrenia                                                         20\n",
      "Incontinence                                                          19\n",
      "Hypothyroidism                                                        17\n",
      "Allergies                                                             14\n",
      "Erectile Dysfunction                                                  13\n",
      "Hair Loss                                                             11\n",
      "Herpes                                                                10\n",
      "Gout                                                                   9\n",
      "Menopause                                                              7\n",
      "Gastrointestinal                                                       7\n",
      "Stroke                                                                 5\n",
      "Swine Flu                                                              5\n",
      "d                                                                      1\n",
      "Name: count, dtype: int64\n"
     ]
    }
   ],
   "source": [
    "# Check for occurrence and frequency of medical conditions,sorted from highest to lowest\n",
    "medical_condition_counts = data['medical_condition'].value_counts().sort_values(ascending=False)\n",
    "\n",
    "print(\"\\nMedical condition occurrence and frequency:\")\n",
    "print(medical_condition_counts)"
   ]
  },
  {
   "cell_type": "code",
   "execution_count": 76,
   "id": "3c239802-5fb3-45c8-bf34-bb12bd89be20",
   "metadata": {},
   "outputs": [],
   "source": [
    "# Save the results to CSV files if needed\n",
    "\n",
    "medical_condition_counts.to_csv('medical_condition_counts.csv')"
   ]
  },
  {
   "cell_type": "code",
   "execution_count": 77,
   "id": "28ccf0fc-1d51-42d0-9058-0ecbc9c7cd92",
   "metadata": {},
   "outputs": [],
   "source": [
    "# Importing necessary libraries for processing text\n",
    "from collections import Counter\n",
    "import re"
   ]
  },
  {
   "cell_type": "code",
   "execution_count": 78,
   "id": "dca894c2-8b04-4ae5-bf55-a6523fc878ae",
   "metadata": {},
   "outputs": [],
   "source": [
    "# Function to extract side effects from text, split by semicolons\n",
    "\n",
    "def extract_side_effects(text):\n",
    "    [effect.strip() for effect in re.split(r'[;]',text)]"
   ]
  },
  {
   "cell_type": "code",
   "execution_count": 79,
   "id": "c7d881e3-c301-4eb2-86ee-8e60f967297b",
   "metadata": {},
   "outputs": [],
   "source": [
    "# Extract and count occurrences of side effects\n",
    "\n",
    "side_effects =data_ver4['side_effects'].dropna().apply(extract_side_effects).explode()"
   ]
  },
  {
   "cell_type": "code",
   "execution_count": 80,
   "id": "2a98601f-c115-4b3f-94c2-ca643f23ac7a",
   "metadata": {},
   "outputs": [],
   "source": [
    "side_effect_counts =side_effects.value_counts().sort_values(ascending=False)"
   ]
  },
  {
   "cell_type": "code",
   "execution_count": 81,
   "id": "c4c3c621-42f4-4ebf-9ab4-c523e2c69945",
   "metadata": {},
   "outputs": [
    {
     "name": "stdout",
     "output_type": "stream",
     "text": [
      "\n",
      "Side effects occurrence and frequency (sorted from highest to lowest):\n",
      "Series([], Name: count, dtype: int64)\n"
     ]
    }
   ],
   "source": [
    "print(\"\\nSide effects occurrence and frequency (sorted from highest to lowest):\")\n",
    "print(side_effect_counts)"
   ]
  },
  {
   "cell_type": "code",
   "execution_count": 82,
   "id": "5fa733e4-f1bf-4962-805e-03580a96d555",
   "metadata": {},
   "outputs": [],
   "source": [
    "# Save the side effect counts to a CSV file\n",
    "\n",
    "side_effect_counts.to_csv('side_effect_counts.csv')"
   ]
  },
  {
   "cell_type": "code",
   "execution_count": 83,
   "id": "5aef26f9-f9df-48be-9fb9-a30c2283e5d9",
   "metadata": {},
   "outputs": [],
   "source": [
    "# Function to extract drug classes from text, split by commas\n",
    "def extract_drug_classes(text):\n",
    "    return [effect.strip() for effect in re.split(r'[,]',text)]"
   ]
  },
  {
   "cell_type": "code",
   "execution_count": 85,
   "id": "c9164770-7ca1-4eeb-b0ec-cd9857e618ee",
   "metadata": {},
   "outputs": [
    {
     "name": "stdout",
     "output_type": "stream",
     "text": [
      "\n",
      "Drug Classes occurrence and frequency :\n",
      "drug_classes\n",
      "Upper respiratory combinations                     245\n",
      "Topical acne agents                                125\n",
      "Topical steroids                                    94\n",
      "Unknown                                             83\n",
      "Antihistamines                                      82\n",
      "                                                  ... \n",
      "CD52 monoclonal antibodies                           1\n",
      "Smoking cessation agents                             1\n",
      "f.parentNode&&f.parentNode.removeChild(f)):a()}      1\n",
      "Mouth and throat products                            1\n",
      "Adamantane antivirals                                1\n",
      "Name: count, Length: 246, dtype: int64\n"
     ]
    }
   ],
   "source": [
    "# Extract and count occurrences of drug classes\n",
    "drug_classes =data_ver4['drug_classes'].dropna().apply(extract_drug_classes).explode()\n",
    "drug_classes_counts =drug_classes.value_counts().sort_values(ascending=False)\n",
    "print(\"\\nDrug Classes occurrence and frequency :\")\n",
    "print(drug_classes_counts)"
   ]
  },
  {
   "cell_type": "code",
   "execution_count": 86,
   "id": "115c2c6b-c214-48e1-8bde-b8833daab3d9",
   "metadata": {},
   "outputs": [],
   "source": [
    "# Save the drug classes counts to a CSV file\n",
    "\n",
    "drug_classes_counts.to_csv('drug_classes_counts.csv')"
   ]
  },
  {
   "cell_type": "code",
   "execution_count": 90,
   "id": "e814e665-bbe5-4eb4-9c22-93c75ee098fb",
   "metadata": {},
   "outputs": [],
   "source": [
    "# Define functions to check for specific side effects and create new boolean columns\n",
    "def has_hives(text):\n",
    "    return 'hives' in text.lower()\n",
    "    data_ver4['Hives'] = data_ver4['side_effects'].apply(has_hives)\n",
    "    def has_difficult_breathing(text):\n",
    "        return 'difficult breathing' in text.lower() or 'difficulty breathing' in text.lower()\n",
    "        data_ver4['Difficult Breathing'] =data_ver4['side_effects'].apply(has_difficult_breathing)\n",
    "        def has_itching(text):\n",
    "            return 'itching' in text.lower()\n",
    "            data_ver4['Itching'] =data_ver4['side_effects'].apply(has_itching)"
   ]
  },
  {
   "cell_type": "code",
   "execution_count": 91,
   "id": "02727ff7-a49e-405e-9edb-0bdb6b3f3ef4",
   "metadata": {},
   "outputs": [],
   "source": [
    "# Define functions to check for specific drug classes and create new boolean columns\n",
    "def is_usc(text):\n",
    "    return 'Upper respiratory combinations' in text\n",
    "    data_ver4['Upper respiratory combinations'] =data_ver4['drug_classes'].apply(is_usc)\n",
    "\n",
    "def is_steriods(text):\n",
    "    return 'Topical steroids' in text\n",
    "    data_ver4['Topical steroids'] =data_ver4['drug_classes'].apply(is_steriods)\n",
    "\n",
    "def is_acne(text):\n",
    "    return 'Topical acne agents' in text\n",
    "    data_ver4['Topical acne agents'] =data_ver4['drug_classes'].apply(is_acne)"
   ]
  },
  {
   "cell_type": "code",
   "execution_count": 93,
   "id": "4a67c227-b7f4-474a-86a1-9cd6ed7c0f1b",
   "metadata": {},
   "outputs": [],
   "source": [
    "# Define functions to check for specific medical conditions and create new boolean columns\n",
    "\n",
    "def has_pain(text):\n",
    "    return 'Pain' in text\n",
    "    data_ver4['Pain'] =data_ver4['medical_condition'].apply(has_pain)\n",
    "\n",
    "def has_colds_and_flu(text):\n",
    "    return 'Colds & Flu' in text\n",
    "    data_ver4['Colds & Flu'] =data_ver4['medical_condition'].apply(has_colds_and_flu)\n",
    "\n",
    "def has_acne(text):\n",
    "    return 'Acne' in text\n",
    "    data_ver4['Acne'] =data_ver4['medical_condition'].apply(has_acne)"
   ]
  },
  {
   "cell_type": "code",
   "execution_count": 92,
   "id": "bcdb0982-7924-40c8-b7a5-e078efe74c68",
   "metadata": {},
   "outputs": [],
   "source": [
    "# Plot the count of occurrences for each side effect\n",
    "\n",
    "import seaborn as sns"
   ]
  },
  {
   "cell_type": "code",
   "execution_count": 95,
   "id": "239bc0a0-19c0-48c5-98e8-557a00585b47",
   "metadata": {},
   "outputs": [
    {
     "name": "stdout",
     "output_type": "stream",
     "text": [
      "Index(['drug_name', 'medical_condition', 'side_effects', 'generic_name',\n",
      "       'drug_classes', 'activity', 'rx_otc', 'pregnancy_category', 'csa',\n",
      "       'alcohol',\n",
      "       ...\n",
      "       'Unnamed: 125', 'Unnamed: 126', 'Unnamed: 127', 'Unnamed: 128',\n",
      "       'Unnamed: 129', 'Unnamed: 130', 'Unnamed: 131', 'Unnamed: 132',\n",
      "       'Unnamed: 133', 'Unnamed: 134'],\n",
      "      dtype='object', length=134)\n"
     ]
    }
   ],
   "source": [
    "print(data_ver4.columns)"
   ]
  },
  {
   "cell_type": "code",
   "execution_count": 97,
   "id": "0a728d26-d5c6-4573-b004-8bad9926d2c7",
   "metadata": {},
   "outputs": [
    {
     "name": "stdout",
     "output_type": "stream",
     "text": [
      "        drug_name medical_condition  \\\n",
      "0     doxycycline              Acne   \n",
      "1  spironolactone              Acne   \n",
      "2     minocycline              Acne   \n",
      "3        Accutane              Acne   \n",
      "4     clindamycin              Acne   \n",
      "\n",
      "                                        side_effects         generic_name  \\\n",
      "0  (hives, difficult breathing, swelling in your ...          doxycycline   \n",
      "1  hives ; difficulty breathing; swelling of your...       spironolactone   \n",
      "2  skin rash, fever, swollen glands, flu-like sym...          minocycline   \n",
      "3  problems with your vision or hearing; muscle o...  isotretinoin (oral)   \n",
      "4  hives ; difficult breathing; swelling of your ...  clindamycin topical   \n",
      "\n",
      "                                        drug_classes  activity rx_otc  \\\n",
      "0         Miscellaneous antimalarials, Tetracyclines      0.87     Rx   \n",
      "1  Aldosterone receptor antagonists, Potassium-sp...      0.82     Rx   \n",
      "2                                      Tetracyclines      0.48     Rx   \n",
      "3  Miscellaneous antineoplastics, Miscellaneous u...      0.41     Rx   \n",
      "4       Topical acne agents, Vaginal anti-infectives      0.39     Rx   \n",
      "\n",
      "  pregnancy_category csa alcohol  ... Unnamed: 125 Unnamed: 126  Unnamed: 127  \\\n",
      "0                  D   N       1  ...          NaN          NaN           NaN   \n",
      "1                  C   N       1  ...          NaN          NaN           NaN   \n",
      "2                  D   N       0  ...          NaN          NaN           NaN   \n",
      "3                  X   N       1  ...          NaN          NaN           NaN   \n",
      "4                  B   N       0  ...          NaN          NaN           NaN   \n",
      "\n",
      "  Unnamed: 128 Unnamed: 129 Unnamed: 130 Unnamed: 131 Unnamed: 132  \\\n",
      "0          NaN          NaN          NaN          NaN          NaN   \n",
      "1          NaN          NaN          NaN          NaN          NaN   \n",
      "2          NaN          NaN          NaN          NaN          NaN   \n",
      "3          NaN          NaN          NaN          NaN          NaN   \n",
      "4          NaN          NaN          NaN          NaN          NaN   \n",
      "\n",
      "  Unnamed: 133 Unnamed: 134  \n",
      "0          NaN          NaN  \n",
      "1          NaN          NaN  \n",
      "2          NaN          NaN  \n",
      "3          NaN          NaN  \n",
      "4          NaN          NaN  \n",
      "\n",
      "[5 rows x 134 columns]\n",
      "Index(['drug_name', 'medical_condition', 'side_effects', 'generic_name',\n",
      "       'drug_classes', 'activity', 'rx_otc', 'pregnancy_category', 'csa',\n",
      "       'alcohol',\n",
      "       ...\n",
      "       'Unnamed: 125', 'Unnamed: 126', 'Unnamed: 127', 'Unnamed: 128',\n",
      "       'Unnamed: 129', 'Unnamed: 130', 'Unnamed: 131', 'Unnamed: 132',\n",
      "       'Unnamed: 133', 'Unnamed: 134'],\n",
      "      dtype='object', length=134)\n"
     ]
    }
   ],
   "source": [
    "print(data_ver4.head())    # Top rows dekho\n",
    "print(data_ver4.columns)   # Saare column names dekho"
   ]
  },
  {
   "cell_type": "code",
   "execution_count": 98,
   "id": "9d1cdc2b-dc62-401f-8eb7-a7e6bb9d6a2f",
   "metadata": {},
   "outputs": [
    {
     "data": {
      "image/png": "[encoded data removed]",
      "text/plain": [
       "<Figure size 640x480 with 1 Axes>"
      ]
     },
     "metadata": {},
     "output_type": "display_data"
    }
   ],
   "source": [
    "condition_counts = data_ver4['medical_condition'].value_counts().head(10)\n",
    "condition_counts.plot(kind='bar')\n",
    "plt.title('Top 10 Medical Conditions')\n",
    "plt.xlabel('Condition')\n",
    "plt.ylabel('Count')\n",
    "plt.show()"
   ]
  },
  {
   "cell_type": "code",
   "execution_count": 101,
   "id": "f1cc6496-d8b8-425b-ac81-d24e77ae7473",
   "metadata": {},
   "outputs": [
    {
     "name": "stdout",
     "output_type": "stream",
     "text": [
      "['(hives, difficult breathing, swelling in your face or throat) or a severe skin reaction (fever, sore throat, burning in your eyes, skin pain, red or purple skin rash that spreads and causes blistering and peeling). Seek medical treatment if you have a serious drug reaction that can affect many parts of your body. Symptoms may include: skin rash, fever, swollen glands, flu-like symptoms, muscle aches, severe weakness, unusual bruising, or yellowing of your skin or eyes. This reaction may occur several weeks after you began using doxycycline. Doxycycline may cause serious side effects. Call your doctor at once if you have: severe stomach pain, diarrhea that is watery or bloody; throat irritation, trouble swallowing; chest pain, irregular heart rhythm, feeling short of breath; little or no urination; low white blood cell counts - fever, chills, swollen glands, body aches, weakness, pale skin, easy bruising or bleeding; severe headaches, ringing in your ears, dizziness, nausea, vision problems, pain behind your eyes; loss of appetite, upper stomach pain (that may spread to your back), tiredness, nausea or vomiting, fast heart rate, dark urine, jaundice (yellowing of the skin or eyes). Common side effects of doxycycline may include: nausea and vomiting; upset stomach; loss of appetite; mild diarrhea; skin rash or itching; darkened skin color; vaginal itching or discharge.'\n",
      " 'hives ; difficulty breathing; swelling of your face, lips, tongue, or throat. Call your doctor at once if you have: a light-headed feeling, like you might pass out; little or no urination; high potassium level - nausea , weakness, tingly feeling, chest pain, irregular heartbeats, loss of movement; o signs of other electrolyte imbalances - increased thirst or urination, confusion, vomiting , muscle pain, slurred speech, severe weakness, numbness , loss of coordination, feeling unsteady. Common spironolactone side effects may include: breast swelling or tenderness.'\n",
      " 'skin rash, fever, swollen glands, flu-like symptoms, muscle aches, severe weakness, unusual bruising, or yellowing of your skin or eyes. This may be more likely with long-term use of minocycline, and the reaction may occur several weeks after you began using this medicine. Call your doctor at once if you have: little or no urination, swelling in your feet or ankles, feeling tired or short of breath (signs of kidney problems); loss of appetite, upper stomach pain (that may spread to your back), nausea or vomiting, loss of appetite, easy bruising or bleeding, dark urine, yellowing of the skin or eyes (signs of liver or pancreas problems); joint pain or swelling with fever, swollen glands, muscle aches, chest pain, vomiting, unusual thoughts or behavior, and patchy skin color; severe headaches, ringing in your ears, dizziness, vision problems, pain behind your eyes; or swollen glands, flu symptoms, easy bruising or bleeding, severe tingling or numbness, muscle weakness, chest pain, new or worsening cough with fever, trouble breathing. Common minocycline side effects may include: numbness , tingling, burning pain; hair loss ; discoloration of you skin or nails. dizziness, spinning sensation; muscle or joint pain; nausea, diarrhea, loss of appetite; swollen tongue, cough, trouble swallowing; rash, itching; or headache .'\n",
      " 'problems with your vision or hearing; muscle or joint pain, bone pain, back pain; increased thirst, increased urination; hallucinations, (see or hearing things that are not real); symptoms of depression - unusual mood changes, crying spells, feelings of low self-worth, loss of interest in things you once enjoyed, new sleep problems, thoughts about hurting yourself; signs of liver or pancreas problems - loss of appetite, upper stomach pain (that may spread to your back), nausea or vomiting, fast heart rate , dark urine, jaundice (yellowing of the skin or eyes); severe stomach problems - severe stomach or chest pain, pain when swallowing, heartburn , diarrhea , rectal bleeding , bloody or tarry stools; or increased pressure inside the skull - severe headaches, ringing in your ears, dizziness, nausea, vision problems, pain behind your eyes. Common Accutane side effects may include: dryness of your skin, lips, eyes, or nose (you may have nosebleeds ); vision problems; headache, back pain , joint pain, muscle problems; skin reactions; or cold symptoms such as stuffy nose, sneezing, sore throat.'\n",
      " 'hives ; difficult breathing; swelling of your face, lips, tongue, or throat. Clindamycin topical may cause serious side effects. Stop using clindamycin topical and call your doctor at once if you have: severe redness, itching, or dryness of treated skin areas; or severe stomach pain, diarrhea that is watery or bloody (even if it occurs months after your last dose). Common side effects of clindamycin topical may include: burning, itching, dryness, peeling or redness of treated skin; or oily skin.'\n",
      " 'hives ; difficulty breathing; swelling of your face, lips, tongue, or throat. Call your doctor at once if you have: a light-headed feeling, like you might pass out; little or no urination; high potassium level - nausea , weakness, tingly feeling, chest pain, irregular heartbeats, loss of movement; o signs of other electrolyte imbalances - increased thirst or urination, confusion, vomiting , muscle pain, slurred speech, severe weakness, numbness , loss of coordination, feeling unsteady. Common Aldactone side effects may include: breast swelling or tenderness.'\n",
      " 'hives ; difficult breathing; swelling of your face, lips, tongue, or throat. Tretinoin topical may cause serious side effects. Call your doctor at once if you have: severe burning, stinging, or irritation of treated skin; severe skin dryness; or severe redness, swelling, blistering, peeling, or crusting. Your skin may be more sensitive to weather extremes such as cold and wind while using tretinoin topical. Common side effects of tretinoin topical may include: skin pain, redness, burning, itching, or irritation; sore throat ; mild warmth or stinging where the medicine was applied; or changes in color of treated skin.'\n",
      " 'problems with your vision or hearing; muscle or joint pain, bone pain, back pain; increased thirst, increased urination; hallucinations, (see or hearing things that are not real); symptoms of depression--unusual mood changes, crying spells, feelings of low self-worth, loss of interest in things you once enjoyed, new sleep problems, thoughts about hurting yourself; signs of liver or pancreas problems--loss of appetite, upper stomach pain (that may spread to your back), nausea or vomiting, fast heart rate , dark urine, jaundice (yellowing of the skin or eyes); severe stomach problems--severe stomach or chest pain, pain when swallowing, heartburn , diarrhea , rectal bleeding , bloody or tarry stools; or increased pressure inside the skull--severe headaches, ringing in your ears, dizziness, nausea, vision problems, pain behind your eyes. Common side effects of isotretinoin may include: dryness of your skin, lips, eyes, or nose (you may have nosebleeds ); vision problems; headache, back pain , joint pain, muscle problems; skin reactions; or cold symptoms such as stuffy nose, sneezing, sore throat.'\n",
      " 'skin rash, fever, swollen glands, joint pain, muscle aches, severe weakness, pale skin, unusual bruising, or yellowing of your skin or eyes. Call your doctor at once if you have: severe stomach pain, diarrhea that is watery or bloody (even if it occurs months after your last dose); any skin rash, no matter how mild; yellowing of your skin or eyes; a seizure; new or unusual joint pain; increased or decreased urination; swelling, bruising, or irritation around the IV needle; increased thirst, dry mouth, fruity breath odor; new or worsening cough, fever, trouble breathing; high blood potassium - nausea , weakness, tingly feeling, chest pain, irregular heartbeats, loss of movement; low blood sodium - headache , confusion, problems with thinking or memory, weakness, feeling unsteady; or low blood cell counts - fever, chills, mouth sores, skin sores, easy bruising, unusual bleeding, pale skin, cold hands and feet, feeling light-headed or short of breath. Common Bactrim side effects may include: nausea, vomiting, loss of appetite; or skin rash.'\n",
      " 'hives; difficult breathing; swelling of your face, lips, tongue, or throat. Stop using Retin-A and call your doctor at once if you have: severe burning, stinging, or irritation of treated skin; severe redness, swelling, blistering, peeling, or crusting; Your skin may be more sensitive to weather extremes such as cold and wind while using this medicine. Common Retin-A side effects may include: mild warmth or stinging where the medicine was applied; or changes in color of treated skin.'\n",
      " 'hives; difficult breathing; swelling of your face, lips, tongue, or throat. Aczone may cause methemoglobinemia (met-HEEM-oh glo-bin-EE-mee-a), a serious condition in which the amount of oxygen in your blood stream becomes dangerously low. Stop using this medicine and call your doctor at once if you notice a blue or gray appearance of your lips, fingernails, or the inside of your mouth. Call your doctor at once if you have: severe sore throat; unusual thoughts or behavior; a red blood cell disorder - back pain, pale or yellowed skin, dark colored urine, fever, confusion or weakness; pancreas problems - severe pain in your upper stomach spreading to your back, nausea and vomiting, fast heart rate; or severe skin reaction - fever, sore throat, swelling in your face or tongue, burning in your eyes, skin pain followed by a red or purple skin rash that spreads (especially in the face or upper body) and causes blistering and peeling. Common Aczone side effects may include: dry or peeling skin; oily skin; or redness where the medicine was applied.'\n",
      " 'Benzoyl peroxide topical can cause a rare but serious allergic reaction or severe skin irritation. These reactions may occur just a few minutes after you apply the medicine, or within a day or longer afterward. Stop using this medicine and get emergency medical help if you have signs of an allergic reaction : hives, itching; difficult breathing, feeling light-headed; swelling of your face, lips, tongue, or throat. Stop using benzoyl peroxide and call your doctor at once if you have any of these side effects on the treated skin: severe itching or burning; severe stinging or redness; swelling; or peeling. Common side effects of benzoyl peroxide topical may include: mild stinging or burning; itching or tingly feeling; skin dryness, peeling, or flaking; or redness or other irritation.'\n",
      " 'hives, itching; chest pain, difficult breathing; swelling of your face, lips, tongue, or throat. Stop using this medicine and call your doctor at once if you have: skin redness, stinging, burning, or peeling after sun exposure. Some side effects may occur during the first 4 weeks of using this medicine. These side effects should become less noticeable with continued use. Common Differin side effects may include: dry, red, or scaly skin; feeling of warmth and mild stinging or burning; peeling skin; or skin pain.'\n",
      " 'Benzoyl peroxide can cause a rare but serious allergic reaction or severe skin irritation. Stop using this medicine and get emergency medical help if you have: hives , itching; difficult breathing, feeling light-headed; or swelling of your face, lips, tongue, or throat. Epiduo may cause serious side effects. Call your doctor at once if you have: severe redness or swelling of treated skin; severe burning or stinging; or severe dryness or other skin irritation. Common Epiduo side effects may include: dry or scaly skin; skin redness; or burning or stinging.'\n",
      " 'hives , itching; chest pain, difficult breathing; swelling of your face, lips, tongue, or throat. adapalene topical may cause serious side effects. Stop using adapalene topical and call your doctor at once if you have: skin redness, stinging, burning, or peeling after sun exposure. Some side effects may occur during the first 4 weeks of using this medicine. These side effects should become less noticeable with continued use. Common side effects of adapalene topical may include: dry, red, or scaly skin; feeling of warmth and mild stinging or burning; peeling skin ; or skin pain.'\n",
      " 'severe stomach pain, diarrhea that is watery or bloody (even if it occurs months after your last dose); unusual tiredness, feeling light-headed or short of breath; easy bruising, unusual bleeding, purple or red spots under your skin; a seizure; pale skin, cold hands and feet; yellowed skin, dark colored urine; fever, weakness; or pain in your side or lower back, painful urination. Common cephalexin side effects may include: diarrhea; nausea, vomiting; indigestion , stomach pain; or vaginal itching or discharge.'\n",
      " 'Along with its needed effects, a medicine may cause some unwanted effects. Although not all of these side effects may occur, if they do occur they may need medical attention. Check with your doctor immediately if any of the following side effects occur: Incidence not known Blistering, peeling, or loosening of the skin bloating chills clay-colored stools constipation cough dark urine decreased appetite diarrhea diarrhea, watery and severe, which may also be bloody difficulty with swallowing dizziness fast heartbeat feeling of discomfort fever headache hives, itching, puffiness or swelling of the eyelids or around the eyes, face, lips, or tongue hives or welts, itching, or rash increased thirst indigestion inflammation of the joints joint or muscle pain large, hive-like swelling on the face, eyelids, lips, tongue, throat, hands, legs, feet, or sex organs loss of appetite nausea numbness or tingling of the face, hands, or feet pain in the stomach, side, or abdomen, possibly radiating to the back red skin lesions, often with a purple center redness and soreness of the eyes redness of the skin sore throat sores, ulcers, or white spots in the mouth or on the lips stomach cramps stomach pain or tenderness swelling of the feet or lower legs swollen, painful, or tender lymph glands in the neck, armpit, or groin tightness in the chest unusual tiredness or weakness unusual weight loss vomiting yellow eyes or skin Some side effects may occur that usually do not need medical attention. These side effects may go away during treatment as your body adjusts to the medicine. Also, your health care professional may be able to tell you about ways to prevent or reduce some of these side effects. Check with your health care professional if any of the following side effects continue or are bothersome or if you have any questions about them: Incidence not known Back, leg, or stomach pains black, tarry stools bleeding gums blood in the urine or stools blurred vision bulging soft spot on the head of an infant change in the ability to see colors, especially blue or yellow chest pain, discomfort, or burning cracks in the skin decrease in vision difficulty breathing discoloration of the thyroid glands double vision general body swelling heartburn increased sensitivity of the skin to sunlight loss of heat from the body lower back or side pain nosebleeds pain or burning in the throat pain with swallowing painful or difficult urination pale skin pinpoint red spots on the skin rash with flat lesions or small raised lesions on the skin red, swollen skin redness or other discoloration of the skin redness, swelling, or soreness of the tongue scaly skin severe nausea severe stomach pain severe sunburn tooth discoloration unusual bleeding or bruising vomiting blood Other side effects not listed may also occur in some patients. If you notice any other effects, check with your healthcare professional. Call your doctor for medical advice about side effects. You may report side effects to the FDA at 1-800-FDA-1088. Doryx side effects'\n",
      " 'hives; difficult breathing; swelling of your face, lips, tongue, or throat. Call your doctor at once if you have: severe blistering, peeling, and red skin rash; fever, chills, body aches, flu symptoms; pale or yellowed skin, easy bruising or bleeding; any signs of a new infection. Common tetracycline side effects may include: nausea, vomiting, diarrhea, upset stomach, loss of appetite; white patches or sores inside your mouth or on your lips; swollen tongue, black or \"hairy\" tongue, trouble swallowing; sores or swelling in your rectal or genital area; or vaginal itching or discharge.'\n",
      " 'skin rash, fever, swollen glands, joint pain, muscle aches, severe weakness, pale skin, unusual bruising, or yellowing of your skin or eyes. Call your doctor at once if you have: severe stomach pain, diarrhea that is watery or bloody (even if it occurs months after your last dose); a skin rash, no matter how mild; yellowing of your skin or eyes; a seizure; new or unusual joint pain; increased or decreased urination; swelling, bruising, or irritation around the IV needle; increased thirst, dry mouth, fruity breath odor; new or worsening cough, fever, trouble breathing; high potassium level - nausea, weakness, tingly feeling, chest pain, irregular heartbeats, loss of movement; low sodium level - headache, confusion, slurred speech, severe weakness, vomiting, loss of coordination, feeling unsteady; or low blood cell counts - fever, chills, mouth sores, skin sores, easy bruising, unusual bleeding, pale skin, cold hands and feet, feeling light-headed or short of breath. Common Septra side effects may include: nausea , vomiting, loss of appetite; or skin rash.'\n",
      " 'skin rash, fever, swollen glands, muscle aches, severe weakness, unusual bruising, or yellowing of your skin or eyes. Call your doctor at once if you have: bronchospasm (wheezing, chest tightness, trouble breathing); a seizure; kidney problems - little or no urination, swelling in your feet or ankles, feeling tired or short of breath; low blood cell counts - fever, chills, tiredness, mouth sores, skin sores, easy bruising, unusual bleeding, pale skin, cold hands and feet, feeling light-headed or short of breath; increased pressure inside the skull - severe headaches, ringing in your ears, dizziness, vision problems, pain behind your eyes; or signs of liver or pancreas problems - loss of appetite, upper stomach pain (that may spread to your back), nausea or vomiting, loss of appetite, easy bruising or bleeding, dark urine, jaundice (yellowing of the skin or eyes). Common Solodyn side effects may include: numbness , tingling, burning pain; hair loss ; discoloration of you skin or nails. dizziness, spinning sensation; muscle or joint pain; nausea, diarrhea, loss of appetite; swollen tongue, cough, trouble swallowing; rash, itching; or headache .']\n"
     ]
    }
   ],
   "source": [
    "# Check unique values in side_effects column\n",
    "print(data_ver4['side_effects'].unique()[:20])"
   ]
  },
  {
   "cell_type": "code",
   "execution_count": 102,
   "id": "a9f734a5-5711-47d0-ab35-fcf142dbf468",
   "metadata": {},
   "outputs": [
    {
     "data": {
      "text/plain": [
       "0     (hives, difficult breathing, swelling in your ...\n",
       "1     hives ; difficulty breathing; swelling of your...\n",
       "2     skin rash, fever, swollen glands, flu-like sym...\n",
       "4     hives ; difficult breathing; swelling of your ...\n",
       "5     hives ; difficulty breathing; swelling of your...\n",
       "6     hives ; difficult breathing; swelling of your ...\n",
       "8     skin rash, fever, swollen glands, joint pain, ...\n",
       "9     hives; difficult breathing; swelling of your f...\n",
       "10    hives; difficult breathing; swelling of your f...\n",
       "11    Benzoyl peroxide topical can cause a rare but ...\n",
       "12    hives, itching; chest pain, difficult breathin...\n",
       "13    Benzoyl peroxide can cause a rare but serious ...\n",
       "14    hives , itching; chest pain, difficult breathi...\n",
       "15    severe stomach pain, diarrhea that is watery o...\n",
       "16    Along with its needed effects, a medicine may ...\n",
       "17    hives; difficult breathing; swelling of your f...\n",
       "18    skin rash, fever, swollen glands, joint pain, ...\n",
       "19    skin rash, fever, swollen glands, muscle aches...\n",
       "20    hives ; difficult breathing; swelling of your ...\n",
       "21    Along with its needed effects, a medicine may ...\n",
       "Name: side_effects, dtype: object"
      ]
     },
     "execution_count": 102,
     "metadata": {},
     "output_type": "execute_result"
    }
   ],
   "source": [
    "# Search if \"breath\" word exists inside side effects column\n",
    "data_ver4[data_ver4['side_effects'].str.contains('breath', case=False, na=False)]['side_effects'].head(20)"
   ]
  },
  {
   "cell_type": "code",
   "execution_count": 103,
   "id": "a8a33e46-f045-4600-9d73-de59df3643f6",
   "metadata": {},
   "outputs": [
    {
     "data": {
      "image/png": "[encoded data removed]",
      "text/plain": [
       "<Figure size 640x480 with 1 Axes>"
      ]
     },
     "metadata": {},
     "output_type": "display_data"
    }
   ],
   "source": [
    "# Plot count of Difficult Breathing\n",
    "breath_issues = data_ver4['side_effects'].str.contains('breath', case=False, na=False).value_counts()\n",
    "\n",
    "breath_issues.plot(kind='bar')\n",
    "plt.title('Count of Breathing Related Side Effects')\n",
    "plt.xlabel('Breathing Issue Present?')\n",
    "plt.ylabel('Count')\n",
    "plt.xticks([0,1], ['No', 'Yes'], rotation=0)\n",
    "plt.show()"
   ]
  },
  {
   "cell_type": "code",
   "execution_count": 105,
   "id": "a164998b-bdad-487c-af48-ce1cb6c30fae",
   "metadata": {},
   "outputs": [
    {
     "data": {
      "image/png": "[encoded data removed]",
      "text/plain": [
       "<Figure size 640x480 with 1 Axes>"
      ]
     },
     "metadata": {},
     "output_type": "display_data"
    }
   ],
   "source": [
    "# Plot count of Itching\n",
    "itching_counts = data_ver4['side_effects'].str.contains('itch', case=False, na=False).value_counts()\n",
    "\n",
    "itching_counts.plot(kind='bar')\n",
    "plt.title('Count of Itching Side Effect')\n",
    "plt.xlabel('Itching Present?')\n",
    "plt.ylabel('Count')\n",
    "plt.xticks([0,1], ['No', 'Yes'], rotation=0)\n",
    "plt.show()"
   ]
  },
  {
   "cell_type": "code",
   "execution_count": 106,
   "id": "3092f368-ecdd-4e44-babb-eb3efe5484b4",
   "metadata": {},
   "outputs": [
    {
     "name": "stdout",
     "output_type": "stream",
     "text": [
      "Index(['drug_name', 'medical_condition', 'side_effects', 'generic_name',\n",
      "       'drug_classes', 'activity', 'rx_otc', 'pregnancy_category', 'csa',\n",
      "       'alcohol',\n",
      "       ...\n",
      "       'Unnamed: 125', 'Unnamed: 126', 'Unnamed: 127', 'Unnamed: 128',\n",
      "       'Unnamed: 129', 'Unnamed: 130', 'Unnamed: 131', 'Unnamed: 132',\n",
      "       'Unnamed: 133', 'Unnamed: 134'],\n",
      "      dtype='object', length=134)\n"
     ]
    }
   ],
   "source": [
    "print(data_ver4.columns)"
   ]
  },
  {
   "cell_type": "code",
   "execution_count": 108,
   "id": "43c227c3-53cd-4991-ba15-e57e7fd9e6de",
   "metadata": {},
   "outputs": [
    {
     "name": "stdout",
     "output_type": "stream",
     "text": [
      "Index(['drug_name', 'medical_condition', 'side_effects', 'generic_name',\n",
      "       'drug_classes', 'activity', 'rx_otc', 'pregnancy_category', 'csa',\n",
      "       'alcohol',\n",
      "       ...\n",
      "       'Unnamed: 125', 'Unnamed: 126', 'Unnamed: 127', 'Unnamed: 128',\n",
      "       'Unnamed: 129', 'Unnamed: 130', 'Unnamed: 131', 'Unnamed: 132',\n",
      "       'Unnamed: 133', 'Unnamed: 134'],\n",
      "      dtype='object', length=134)\n"
     ]
    }
   ],
   "source": [
    "print(data_ver4.columns)"
   ]
  },
  {
   "cell_type": "code",
   "execution_count": 109,
   "id": "c679e377-4e60-42fa-b76f-227f93c40eef",
   "metadata": {},
   "outputs": [
    {
     "name": "stdout",
     "output_type": "stream",
     "text": [
      "Index(['drug_name', 'medical_condition', 'side_effects', 'generic_name',\n",
      "       'drug_classes', 'activity', 'rx_otc', 'pregnancy_category', 'csa',\n",
      "       'alcohol',\n",
      "       ...\n",
      "       'unnamed: 125', 'unnamed: 126', 'unnamed: 127', 'unnamed: 128',\n",
      "       'unnamed: 129', 'unnamed: 130', 'unnamed: 131', 'unnamed: 132',\n",
      "       'unnamed: 133', 'unnamed: 134'],\n",
      "      dtype='object', length=134)\n"
     ]
    }
   ],
   "source": [
    "data_ver4.columns = data_ver4.columns.str.strip().str.lower()\n",
    "print(data_ver4.columns)"
   ]
  },
  {
   "cell_type": "code",
   "execution_count": 111,
   "id": "df24d719-1f25-4e34-90cc-d3fc7532c2ae",
   "metadata": {},
   "outputs": [
    {
     "data": {
      "image/png": "[encoded data removed]",
      "text/plain": [
       "<Figure size 640x480 with 1 Axes>"
      ]
     },
     "metadata": {},
     "output_type": "display_data"
    }
   ],
   "source": [
    "data_ver4['medical_condition'].value_counts().head(10).plot(kind='bar')\n",
    "plt.title('Top 10 Medical Conditions')\n",
    "plt.xlabel('Medical Condition')\n",
    "plt.ylabel('Count')\n",
    "plt.show()"
   ]
  },
  {
   "cell_type": "code",
   "execution_count": 112,
   "id": "ff414b2b-dbec-4bf6-879e-fe760fd6b755",
   "metadata": {},
   "outputs": [
    {
     "data": {
      "image/png": "[encoded data removed]",
      "text/plain": [
       "<Figure size 640x480 with 1 Axes>"
      ]
     },
     "metadata": {},
     "output_type": "display_data"
    }
   ],
   "source": [
    "data_ver4['drug_classes'].value_counts().head(10).plot(kind='bar')\n",
    "plt.title('Top 10 Drug Classes')\n",
    "plt.xlabel('Drug Class')\n",
    "plt.ylabel('Count')\n",
    "plt.show()"
   ]
  },
  {
   "cell_type": "code",
   "execution_count": 115,
   "id": "25748846-94cb-43b3-a83a-195a6f7b0f1c",
   "metadata": {},
   "outputs": [
    {
     "data": {
      "image/png": "[encoded data removed]",
      "text/plain": [
       "<Figure size 640x480 with 1 Axes>"
      ]
     },
     "metadata": {},
     "output_type": "display_data"
    }
   ],
   "source": [
    "# Plot count of Topical steroids\n",
    "topical = data_ver4[data_ver4['drug_classes'].str.contains('topical', case=False, na=False)]\n",
    "topical['drug_classes'].value_counts().plot(kind='bar')\n",
    "\n",
    "plt.title('Topical Steroids Count')\n",
    "plt.xlabel('Drug Classes')\n",
    "plt.ylabel('Count')\n",
    "plt.show()"
   ]
  },
  {
   "cell_type": "code",
   "execution_count": null,
   "id": "a79fbf5e-a730-415f-ac07-ee21227c4652",
   "metadata": {},
   "outputs": [],
   "source": []
  }
 ],
 "metadata": {
  "kernelspec": {
   "display_name": "Python 3 (ipykernel)",
   "language": "python",
   "name": "python3"
  },
  "language_info": {
   "codemirror_mode": {
    "name": "ipython",
    "version": 3
   },
   "file_extension": ".py",
   "mimetype": "text/x-python",
   "name": "python",
   "nbconvert_exporter": "python",
   "pygments_lexer": "ipython3",
   "version": "3.12.7"
  }
 },
 "nbformat": 4,
 "nbformat_minor": 5
}
